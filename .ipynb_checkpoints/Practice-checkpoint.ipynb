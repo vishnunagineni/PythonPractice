{
 "cells": [
  {
   "cell_type": "code",
   "execution_count": 2,
   "id": "3090282f",
   "metadata": {},
   "outputs": [],
   "source": [
    "square=lambda x:x*x"
   ]
  },
  {
   "cell_type": "code",
   "execution_count": 3,
   "id": "5516800c",
   "metadata": {},
   "outputs": [
    {
     "data": {
      "text/plain": [
       "625"
      ]
     },
     "execution_count": 3,
     "metadata": {},
     "output_type": "execute_result"
    }
   ],
   "source": [
    "square(25)"
   ]
  },
  {
   "cell_type": "code",
   "execution_count": 4,
   "id": "7be13d1f",
   "metadata": {},
   "outputs": [
    {
     "data": {
      "text/plain": [
       "390625"
      ]
     },
     "execution_count": 4,
     "metadata": {},
     "output_type": "execute_result"
    }
   ],
   "source": [
    "square(625)"
   ]
  },
  {
   "cell_type": "code",
   "execution_count": 5,
   "id": "e7a17419",
   "metadata": {},
   "outputs": [],
   "source": [
    "import pandas as pd"
   ]
  },
  {
   "cell_type": "code",
   "execution_count": 12,
   "id": "e8d642ca",
   "metadata": {},
   "outputs": [],
   "source": [
    "data=pd.read_excel(\"D:/Datasets/Public-Dataset-County-New.xlsx\")"
   ]
  },
  {
   "cell_type": "code",
   "execution_count": 13,
   "id": "5069a2e6",
   "metadata": {},
   "outputs": [
    {
     "data": {
      "text/html": [
       "<div>\n",
       "<style scoped>\n",
       "    .dataframe tbody tr th:only-of-type {\n",
       "        vertical-align: middle;\n",
       "    }\n",
       "\n",
       "    .dataframe tbody tr th {\n",
       "        vertical-align: top;\n",
       "    }\n",
       "\n",
       "    .dataframe thead th {\n",
       "        text-align: right;\n",
       "    }\n",
       "</style>\n",
       "<table border=\"1\" class=\"dataframe\">\n",
       "  <thead>\n",
       "    <tr style=\"text-align: right;\">\n",
       "      <th></th>\n",
       "      <th>DATE</th>\n",
       "      <th>COUNTY</th>\n",
       "      <th>TOTAL_CASES</th>\n",
       "      <th>NEW_CASES</th>\n",
       "      <th>TOTAL_CONFIRMED</th>\n",
       "      <th>NEW_CONFIRMED</th>\n",
       "      <th>TOTAL_PROBABLE</th>\n",
       "      <th>NEW_PROBABLE</th>\n",
       "      <th>POS_TESTS</th>\n",
       "      <th>NEW_POS_TESTS</th>\n",
       "      <th>...</th>\n",
       "      <th>NEW_TESTS</th>\n",
       "      <th>NEW_DEATHS</th>\n",
       "      <th>TOTAL_DEATHS</th>\n",
       "      <th>NEW_ACTIVE</th>\n",
       "      <th>TOTAL_ACTIVE</th>\n",
       "      <th>NEW_INACTIVE_RECOVERED</th>\n",
       "      <th>TOTAL_INACTIVE_RECOVERED</th>\n",
       "      <th>NEW_HOSPITALIZED</th>\n",
       "      <th>TOTAL_HOSPITALIZED</th>\n",
       "      <th>TOTAL_DEATHS_BY_DOD</th>\n",
       "    </tr>\n",
       "  </thead>\n",
       "  <tbody>\n",
       "    <tr>\n",
       "      <th>0</th>\n",
       "      <td>2021-09-29</td>\n",
       "      <td>Anderson</td>\n",
       "      <td>12273</td>\n",
       "      <td>39</td>\n",
       "      <td>8402</td>\n",
       "      <td>13</td>\n",
       "      <td>3871</td>\n",
       "      <td>26</td>\n",
       "      <td>9392</td>\n",
       "      <td>14</td>\n",
       "      <td>...</td>\n",
       "      <td>205</td>\n",
       "      <td>2.0</td>\n",
       "      <td>199.0</td>\n",
       "      <td>-29.0</td>\n",
       "      <td>519.0</td>\n",
       "      <td>66</td>\n",
       "      <td>11555</td>\n",
       "      <td>0</td>\n",
       "      <td>259</td>\n",
       "      <td>199</td>\n",
       "    </tr>\n",
       "    <tr>\n",
       "      <th>1</th>\n",
       "      <td>2021-09-29</td>\n",
       "      <td>Bedford</td>\n",
       "      <td>8737</td>\n",
       "      <td>34</td>\n",
       "      <td>6509</td>\n",
       "      <td>29</td>\n",
       "      <td>2228</td>\n",
       "      <td>5</td>\n",
       "      <td>7458</td>\n",
       "      <td>31</td>\n",
       "      <td>...</td>\n",
       "      <td>141</td>\n",
       "      <td>0.0</td>\n",
       "      <td>148.0</td>\n",
       "      <td>3.0</td>\n",
       "      <td>274.0</td>\n",
       "      <td>31</td>\n",
       "      <td>8315</td>\n",
       "      <td>0</td>\n",
       "      <td>226</td>\n",
       "      <td>148</td>\n",
       "    </tr>\n",
       "    <tr>\n",
       "      <th>2</th>\n",
       "      <td>2021-09-29</td>\n",
       "      <td>Benton</td>\n",
       "      <td>2620</td>\n",
       "      <td>11</td>\n",
       "      <td>1808</td>\n",
       "      <td>7</td>\n",
       "      <td>812</td>\n",
       "      <td>4</td>\n",
       "      <td>1984</td>\n",
       "      <td>10</td>\n",
       "      <td>...</td>\n",
       "      <td>75</td>\n",
       "      <td>0.0</td>\n",
       "      <td>44.0</td>\n",
       "      <td>-5.0</td>\n",
       "      <td>148.0</td>\n",
       "      <td>16</td>\n",
       "      <td>2428</td>\n",
       "      <td>0</td>\n",
       "      <td>77</td>\n",
       "      <td>44</td>\n",
       "    </tr>\n",
       "    <tr>\n",
       "      <th>3</th>\n",
       "      <td>2021-09-29</td>\n",
       "      <td>Bledsoe</td>\n",
       "      <td>3344</td>\n",
       "      <td>13</td>\n",
       "      <td>2663</td>\n",
       "      <td>10</td>\n",
       "      <td>681</td>\n",
       "      <td>3</td>\n",
       "      <td>2839</td>\n",
       "      <td>10</td>\n",
       "      <td>...</td>\n",
       "      <td>52</td>\n",
       "      <td>0.0</td>\n",
       "      <td>13.0</td>\n",
       "      <td>3.0</td>\n",
       "      <td>101.0</td>\n",
       "      <td>10</td>\n",
       "      <td>3230</td>\n",
       "      <td>0</td>\n",
       "      <td>56</td>\n",
       "      <td>13</td>\n",
       "    </tr>\n",
       "    <tr>\n",
       "      <th>4</th>\n",
       "      <td>2021-09-29</td>\n",
       "      <td>Blount</td>\n",
       "      <td>22755</td>\n",
       "      <td>98</td>\n",
       "      <td>18716</td>\n",
       "      <td>54</td>\n",
       "      <td>4039</td>\n",
       "      <td>44</td>\n",
       "      <td>20467</td>\n",
       "      <td>58</td>\n",
       "      <td>...</td>\n",
       "      <td>351</td>\n",
       "      <td>2.0</td>\n",
       "      <td>243.0</td>\n",
       "      <td>-21.0</td>\n",
       "      <td>991.0</td>\n",
       "      <td>117</td>\n",
       "      <td>21521</td>\n",
       "      <td>0</td>\n",
       "      <td>610</td>\n",
       "      <td>243</td>\n",
       "    </tr>\n",
       "  </tbody>\n",
       "</table>\n",
       "<p>5 rows × 23 columns</p>\n",
       "</div>"
      ],
      "text/plain": [
       "        DATE    COUNTY  TOTAL_CASES  NEW_CASES  TOTAL_CONFIRMED  \\\n",
       "0 2021-09-29  Anderson        12273         39             8402   \n",
       "1 2021-09-29   Bedford         8737         34             6509   \n",
       "2 2021-09-29    Benton         2620         11             1808   \n",
       "3 2021-09-29   Bledsoe         3344         13             2663   \n",
       "4 2021-09-29    Blount        22755         98            18716   \n",
       "\n",
       "   NEW_CONFIRMED  TOTAL_PROBABLE  NEW_PROBABLE  POS_TESTS  NEW_POS_TESTS  ...  \\\n",
       "0             13            3871            26       9392             14  ...   \n",
       "1             29            2228             5       7458             31  ...   \n",
       "2              7             812             4       1984             10  ...   \n",
       "3             10             681             3       2839             10  ...   \n",
       "4             54            4039            44      20467             58  ...   \n",
       "\n",
       "   NEW_TESTS  NEW_DEATHS  TOTAL_DEATHS  NEW_ACTIVE  TOTAL_ACTIVE  \\\n",
       "0        205         2.0         199.0       -29.0         519.0   \n",
       "1        141         0.0         148.0         3.0         274.0   \n",
       "2         75         0.0          44.0        -5.0         148.0   \n",
       "3         52         0.0          13.0         3.0         101.0   \n",
       "4        351         2.0         243.0       -21.0         991.0   \n",
       "\n",
       "   NEW_INACTIVE_RECOVERED  TOTAL_INACTIVE_RECOVERED  NEW_HOSPITALIZED  \\\n",
       "0                      66                     11555                 0   \n",
       "1                      31                      8315                 0   \n",
       "2                      16                      2428                 0   \n",
       "3                      10                      3230                 0   \n",
       "4                     117                     21521                 0   \n",
       "\n",
       "   TOTAL_HOSPITALIZED  TOTAL_DEATHS_BY_DOD  \n",
       "0                 259                  199  \n",
       "1                 226                  148  \n",
       "2                  77                   44  \n",
       "3                  56                   13  \n",
       "4                 610                  243  \n",
       "\n",
       "[5 rows x 23 columns]"
      ]
     },
     "execution_count": 13,
     "metadata": {},
     "output_type": "execute_result"
    }
   ],
   "source": [
    "data.head()"
   ]
  },
  {
   "cell_type": "code",
   "execution_count": 15,
   "id": "2b861d61",
   "metadata": {},
   "outputs": [],
   "source": [
    "na_sum=data.isna().sum()"
   ]
  },
  {
   "cell_type": "code",
   "execution_count": 17,
   "id": "693094d2",
   "metadata": {},
   "outputs": [
    {
     "data": {
      "text/plain": [
       "pandas.core.series.Series"
      ]
     },
     "execution_count": 17,
     "metadata": {},
     "output_type": "execute_result"
    }
   ],
   "source": [
    "type(na_sum)"
   ]
  },
  {
   "cell_type": "code",
   "execution_count": 1,
   "id": "d029e2ea",
   "metadata": {},
   "outputs": [],
   "source": [
    "import turtle"
   ]
  },
  {
   "cell_type": "code",
   "execution_count": 2,
   "id": "c3cc739a",
   "metadata": {},
   "outputs": [],
   "source": [
    "skk=turtle.Turtle()"
   ]
  },
  {
   "cell_type": "code",
   "execution_count": null,
   "id": "600e4510",
   "metadata": {},
   "outputs": [],
   "source": [
    "for i in range(4):\n",
    "    skk.forward(60)\n",
    "    skk.right(90)\n",
    "turtle.done()"
   ]
  },
  {
   "cell_type": "code",
   "execution_count": null,
   "id": "83413729",
   "metadata": {},
   "outputs": [],
   "source": []
  },
  {
   "cell_type": "code",
   "execution_count": 17,
   "id": "8a1725ed",
   "metadata": {},
   "outputs": [],
   "source": [
    "def subsets(x):\n",
    "    res=[[]]\n",
    "    for i in x:\n",
    "        res+=[sub+[i] for sub in res]\n",
    "    print(\"Subsets are:\")\n",
    "    def myfunc(e):\n",
    "        return len(e)\n",
    "    res.sort(key=myfunc)\n",
    "    for i in res:\n",
    "        print(i)"
   ]
  },
  {
   "cell_type": "code",
   "execution_count": 18,
   "id": "6cae35ed",
   "metadata": {},
   "outputs": [
    {
     "name": "stdout",
     "output_type": "stream",
     "text": [
      "Subsets are:\n",
      "[]\n",
      "[1]\n",
      "[2]\n",
      "[3]\n",
      "[4]\n",
      "[1, 2]\n",
      "[1, 3]\n",
      "[2, 3]\n",
      "[1, 4]\n",
      "[2, 4]\n",
      "[3, 4]\n",
      "[1, 2, 3]\n",
      "[1, 2, 4]\n",
      "[1, 3, 4]\n",
      "[2, 3, 4]\n",
      "[1, 2, 3, 4]\n"
     ]
    }
   ],
   "source": [
    "x=[1,2,3,4]\n",
    "subsets(x)"
   ]
  },
  {
   "cell_type": "code",
   "execution_count": 3,
   "id": "c2305830",
   "metadata": {},
   "outputs": [],
   "source": [
    "def binary_search(x,l,r,val):\n",
    "    m=int((r-1)/2)\n",
    "    if val==x[m]:\n",
    "        print(\"val is found at position{0}\".format(m))\n",
    "    elif val<=x[m]:\n",
    "        return binary_search(x,0,m-1,val)\n",
    "    else:\n",
    "        return binary_search(x,m+1,r,val)"
   ]
  },
  {
   "cell_type": "code",
   "execution_count": 2,
   "id": "89acdc04",
   "metadata": {},
   "outputs": [],
   "source": [
    "x=[1,2,3,6,8,9]"
   ]
  },
  {
   "cell_type": "code",
   "execution_count": null,
   "id": "85637811",
   "metadata": {},
   "outputs": [],
   "source": [
    "r=len(x)\n",
    "binary_search(x,0,r,2)"
   ]
  },
  {
   "cell_type": "code",
   "execution_count": 1,
   "id": "0cc2fe1d",
   "metadata": {},
   "outputs": [],
   "source": [
    "from sklearn.linear_model import LogisticRegression\n",
    "from sklearn.model_selection import GridSearchCV\n",
    "import numpy as np"
   ]
  },
  {
   "cell_type": "code",
   "execution_count": 2,
   "id": "2ae20bb8",
   "metadata": {},
   "outputs": [],
   "source": [
    "c_space=np.logspace(-5,8,15)"
   ]
  },
  {
   "cell_type": "code",
   "execution_count": 3,
   "id": "578f3dcf",
   "metadata": {},
   "outputs": [],
   "source": [
    "param_grid={'C':c_space}"
   ]
  },
  {
   "cell_type": "code",
   "execution_count": 4,
   "id": "e5a13844",
   "metadata": {},
   "outputs": [],
   "source": [
    "from sklearn.datasets import load_iris"
   ]
  },
  {
   "cell_type": "code",
   "execution_count": 5,
   "id": "5be9b5e7",
   "metadata": {},
   "outputs": [],
   "source": [
    "iris=load_iris()"
   ]
  },
  {
   "cell_type": "code",
   "execution_count": 6,
   "id": "1a5a57b4",
   "metadata": {},
   "outputs": [],
   "source": [
    "X=iris.data"
   ]
  },
  {
   "cell_type": "code",
   "execution_count": 7,
   "id": "f6ac0bf5",
   "metadata": {},
   "outputs": [],
   "source": [
    "y=iris.target"
   ]
  },
  {
   "cell_type": "code",
   "execution_count": 8,
   "id": "a4aafec8",
   "metadata": {},
   "outputs": [],
   "source": [
    "logreg=LogisticRegression()"
   ]
  },
  {
   "cell_type": "code",
   "execution_count": 9,
   "id": "dad8c1ec",
   "metadata": {},
   "outputs": [],
   "source": [
    "logreg_cv=GridSearchCV(logreg,param_grid,cv=5)"
   ]
  },
  {
   "cell_type": "code",
   "execution_count": 10,
   "id": "91217887",
   "metadata": {},
   "outputs": [
    {
     "name": "stderr",
     "output_type": "stream",
     "text": [
      "c:\\users\\vn59575\\appdata\\local\\programs\\python\\python39\\lib\\site-packages\\sklearn\\linear_model\\_logistic.py:763: ConvergenceWarning: lbfgs failed to converge (status=1):\n",
      "STOP: TOTAL NO. of ITERATIONS REACHED LIMIT.\n",
      "\n",
      "Increase the number of iterations (max_iter) or scale the data as shown in:\n",
      "    https://scikit-learn.org/stable/modules/preprocessing.html\n",
      "Please also refer to the documentation for alternative solver options:\n",
      "    https://scikit-learn.org/stable/modules/linear_model.html#logistic-regression\n",
      "  n_iter_i = _check_optimize_result(\n",
      "c:\\users\\vn59575\\appdata\\local\\programs\\python\\python39\\lib\\site-packages\\sklearn\\linear_model\\_logistic.py:763: ConvergenceWarning: lbfgs failed to converge (status=1):\n",
      "STOP: TOTAL NO. of ITERATIONS REACHED LIMIT.\n",
      "\n",
      "Increase the number of iterations (max_iter) or scale the data as shown in:\n",
      "    https://scikit-learn.org/stable/modules/preprocessing.html\n",
      "Please also refer to the documentation for alternative solver options:\n",
      "    https://scikit-learn.org/stable/modules/linear_model.html#logistic-regression\n",
      "  n_iter_i = _check_optimize_result(\n",
      "c:\\users\\vn59575\\appdata\\local\\programs\\python\\python39\\lib\\site-packages\\sklearn\\linear_model\\_logistic.py:763: ConvergenceWarning: lbfgs failed to converge (status=1):\n",
      "STOP: TOTAL NO. of ITERATIONS REACHED LIMIT.\n",
      "\n",
      "Increase the number of iterations (max_iter) or scale the data as shown in:\n",
      "    https://scikit-learn.org/stable/modules/preprocessing.html\n",
      "Please also refer to the documentation for alternative solver options:\n",
      "    https://scikit-learn.org/stable/modules/linear_model.html#logistic-regression\n",
      "  n_iter_i = _check_optimize_result(\n",
      "c:\\users\\vn59575\\appdata\\local\\programs\\python\\python39\\lib\\site-packages\\sklearn\\linear_model\\_logistic.py:763: ConvergenceWarning: lbfgs failed to converge (status=1):\n",
      "STOP: TOTAL NO. of ITERATIONS REACHED LIMIT.\n",
      "\n",
      "Increase the number of iterations (max_iter) or scale the data as shown in:\n",
      "    https://scikit-learn.org/stable/modules/preprocessing.html\n",
      "Please also refer to the documentation for alternative solver options:\n",
      "    https://scikit-learn.org/stable/modules/linear_model.html#logistic-regression\n",
      "  n_iter_i = _check_optimize_result(\n",
      "c:\\users\\vn59575\\appdata\\local\\programs\\python\\python39\\lib\\site-packages\\sklearn\\linear_model\\_logistic.py:763: ConvergenceWarning: lbfgs failed to converge (status=1):\n",
      "STOP: TOTAL NO. of ITERATIONS REACHED LIMIT.\n",
      "\n",
      "Increase the number of iterations (max_iter) or scale the data as shown in:\n",
      "    https://scikit-learn.org/stable/modules/preprocessing.html\n",
      "Please also refer to the documentation for alternative solver options:\n",
      "    https://scikit-learn.org/stable/modules/linear_model.html#logistic-regression\n",
      "  n_iter_i = _check_optimize_result(\n",
      "c:\\users\\vn59575\\appdata\\local\\programs\\python\\python39\\lib\\site-packages\\sklearn\\linear_model\\_logistic.py:763: ConvergenceWarning: lbfgs failed to converge (status=1):\n",
      "STOP: TOTAL NO. of ITERATIONS REACHED LIMIT.\n",
      "\n",
      "Increase the number of iterations (max_iter) or scale the data as shown in:\n",
      "    https://scikit-learn.org/stable/modules/preprocessing.html\n",
      "Please also refer to the documentation for alternative solver options:\n",
      "    https://scikit-learn.org/stable/modules/linear_model.html#logistic-regression\n",
      "  n_iter_i = _check_optimize_result(\n",
      "c:\\users\\vn59575\\appdata\\local\\programs\\python\\python39\\lib\\site-packages\\sklearn\\linear_model\\_logistic.py:763: ConvergenceWarning: lbfgs failed to converge (status=1):\n",
      "STOP: TOTAL NO. of ITERATIONS REACHED LIMIT.\n",
      "\n",
      "Increase the number of iterations (max_iter) or scale the data as shown in:\n",
      "    https://scikit-learn.org/stable/modules/preprocessing.html\n",
      "Please also refer to the documentation for alternative solver options:\n",
      "    https://scikit-learn.org/stable/modules/linear_model.html#logistic-regression\n",
      "  n_iter_i = _check_optimize_result(\n",
      "c:\\users\\vn59575\\appdata\\local\\programs\\python\\python39\\lib\\site-packages\\sklearn\\linear_model\\_logistic.py:763: ConvergenceWarning: lbfgs failed to converge (status=1):\n",
      "STOP: TOTAL NO. of ITERATIONS REACHED LIMIT.\n",
      "\n",
      "Increase the number of iterations (max_iter) or scale the data as shown in:\n",
      "    https://scikit-learn.org/stable/modules/preprocessing.html\n",
      "Please also refer to the documentation for alternative solver options:\n",
      "    https://scikit-learn.org/stable/modules/linear_model.html#logistic-regression\n",
      "  n_iter_i = _check_optimize_result(\n",
      "c:\\users\\vn59575\\appdata\\local\\programs\\python\\python39\\lib\\site-packages\\sklearn\\linear_model\\_logistic.py:763: ConvergenceWarning: lbfgs failed to converge (status=1):\n",
      "STOP: TOTAL NO. of ITERATIONS REACHED LIMIT.\n",
      "\n",
      "Increase the number of iterations (max_iter) or scale the data as shown in:\n",
      "    https://scikit-learn.org/stable/modules/preprocessing.html\n",
      "Please also refer to the documentation for alternative solver options:\n",
      "    https://scikit-learn.org/stable/modules/linear_model.html#logistic-regression\n",
      "  n_iter_i = _check_optimize_result(\n",
      "c:\\users\\vn59575\\appdata\\local\\programs\\python\\python39\\lib\\site-packages\\sklearn\\linear_model\\_logistic.py:763: ConvergenceWarning: lbfgs failed to converge (status=1):\n",
      "STOP: TOTAL NO. of ITERATIONS REACHED LIMIT.\n",
      "\n",
      "Increase the number of iterations (max_iter) or scale the data as shown in:\n",
      "    https://scikit-learn.org/stable/modules/preprocessing.html\n",
      "Please also refer to the documentation for alternative solver options:\n",
      "    https://scikit-learn.org/stable/modules/linear_model.html#logistic-regression\n",
      "  n_iter_i = _check_optimize_result(\n",
      "c:\\users\\vn59575\\appdata\\local\\programs\\python\\python39\\lib\\site-packages\\sklearn\\linear_model\\_logistic.py:763: ConvergenceWarning: lbfgs failed to converge (status=1):\n",
      "STOP: TOTAL NO. of ITERATIONS REACHED LIMIT.\n",
      "\n",
      "Increase the number of iterations (max_iter) or scale the data as shown in:\n",
      "    https://scikit-learn.org/stable/modules/preprocessing.html\n",
      "Please also refer to the documentation for alternative solver options:\n",
      "    https://scikit-learn.org/stable/modules/linear_model.html#logistic-regression\n",
      "  n_iter_i = _check_optimize_result(\n",
      "c:\\users\\vn59575\\appdata\\local\\programs\\python\\python39\\lib\\site-packages\\sklearn\\linear_model\\_logistic.py:763: ConvergenceWarning: lbfgs failed to converge (status=1):\n",
      "STOP: TOTAL NO. of ITERATIONS REACHED LIMIT.\n",
      "\n",
      "Increase the number of iterations (max_iter) or scale the data as shown in:\n",
      "    https://scikit-learn.org/stable/modules/preprocessing.html\n",
      "Please also refer to the documentation for alternative solver options:\n",
      "    https://scikit-learn.org/stable/modules/linear_model.html#logistic-regression\n",
      "  n_iter_i = _check_optimize_result(\n",
      "c:\\users\\vn59575\\appdata\\local\\programs\\python\\python39\\lib\\site-packages\\sklearn\\linear_model\\_logistic.py:763: ConvergenceWarning: lbfgs failed to converge (status=1):\n",
      "STOP: TOTAL NO. of ITERATIONS REACHED LIMIT.\n",
      "\n",
      "Increase the number of iterations (max_iter) or scale the data as shown in:\n",
      "    https://scikit-learn.org/stable/modules/preprocessing.html\n",
      "Please also refer to the documentation for alternative solver options:\n",
      "    https://scikit-learn.org/stable/modules/linear_model.html#logistic-regression\n",
      "  n_iter_i = _check_optimize_result(\n",
      "c:\\users\\vn59575\\appdata\\local\\programs\\python\\python39\\lib\\site-packages\\sklearn\\linear_model\\_logistic.py:763: ConvergenceWarning: lbfgs failed to converge (status=1):\n",
      "STOP: TOTAL NO. of ITERATIONS REACHED LIMIT.\n",
      "\n",
      "Increase the number of iterations (max_iter) or scale the data as shown in:\n",
      "    https://scikit-learn.org/stable/modules/preprocessing.html\n",
      "Please also refer to the documentation for alternative solver options:\n",
      "    https://scikit-learn.org/stable/modules/linear_model.html#logistic-regression\n",
      "  n_iter_i = _check_optimize_result(\n",
      "c:\\users\\vn59575\\appdata\\local\\programs\\python\\python39\\lib\\site-packages\\sklearn\\linear_model\\_logistic.py:763: ConvergenceWarning: lbfgs failed to converge (status=1):\n",
      "STOP: TOTAL NO. of ITERATIONS REACHED LIMIT.\n",
      "\n",
      "Increase the number of iterations (max_iter) or scale the data as shown in:\n",
      "    https://scikit-learn.org/stable/modules/preprocessing.html\n",
      "Please also refer to the documentation for alternative solver options:\n",
      "    https://scikit-learn.org/stable/modules/linear_model.html#logistic-regression\n",
      "  n_iter_i = _check_optimize_result(\n",
      "c:\\users\\vn59575\\appdata\\local\\programs\\python\\python39\\lib\\site-packages\\sklearn\\linear_model\\_logistic.py:763: ConvergenceWarning: lbfgs failed to converge (status=1):\n",
      "STOP: TOTAL NO. of ITERATIONS REACHED LIMIT.\n",
      "\n",
      "Increase the number of iterations (max_iter) or scale the data as shown in:\n",
      "    https://scikit-learn.org/stable/modules/preprocessing.html\n",
      "Please also refer to the documentation for alternative solver options:\n",
      "    https://scikit-learn.org/stable/modules/linear_model.html#logistic-regression\n",
      "  n_iter_i = _check_optimize_result(\n"
     ]
    },
    {
     "name": "stderr",
     "output_type": "stream",
     "text": [
      "c:\\users\\vn59575\\appdata\\local\\programs\\python\\python39\\lib\\site-packages\\sklearn\\linear_model\\_logistic.py:763: ConvergenceWarning: lbfgs failed to converge (status=1):\n",
      "STOP: TOTAL NO. of ITERATIONS REACHED LIMIT.\n",
      "\n",
      "Increase the number of iterations (max_iter) or scale the data as shown in:\n",
      "    https://scikit-learn.org/stable/modules/preprocessing.html\n",
      "Please also refer to the documentation for alternative solver options:\n",
      "    https://scikit-learn.org/stable/modules/linear_model.html#logistic-regression\n",
      "  n_iter_i = _check_optimize_result(\n",
      "c:\\users\\vn59575\\appdata\\local\\programs\\python\\python39\\lib\\site-packages\\sklearn\\linear_model\\_logistic.py:763: ConvergenceWarning: lbfgs failed to converge (status=1):\n",
      "STOP: TOTAL NO. of ITERATIONS REACHED LIMIT.\n",
      "\n",
      "Increase the number of iterations (max_iter) or scale the data as shown in:\n",
      "    https://scikit-learn.org/stable/modules/preprocessing.html\n",
      "Please also refer to the documentation for alternative solver options:\n",
      "    https://scikit-learn.org/stable/modules/linear_model.html#logistic-regression\n",
      "  n_iter_i = _check_optimize_result(\n",
      "c:\\users\\vn59575\\appdata\\local\\programs\\python\\python39\\lib\\site-packages\\sklearn\\linear_model\\_logistic.py:763: ConvergenceWarning: lbfgs failed to converge (status=1):\n",
      "STOP: TOTAL NO. of ITERATIONS REACHED LIMIT.\n",
      "\n",
      "Increase the number of iterations (max_iter) or scale the data as shown in:\n",
      "    https://scikit-learn.org/stable/modules/preprocessing.html\n",
      "Please also refer to the documentation for alternative solver options:\n",
      "    https://scikit-learn.org/stable/modules/linear_model.html#logistic-regression\n",
      "  n_iter_i = _check_optimize_result(\n",
      "c:\\users\\vn59575\\appdata\\local\\programs\\python\\python39\\lib\\site-packages\\sklearn\\linear_model\\_logistic.py:763: ConvergenceWarning: lbfgs failed to converge (status=1):\n",
      "STOP: TOTAL NO. of ITERATIONS REACHED LIMIT.\n",
      "\n",
      "Increase the number of iterations (max_iter) or scale the data as shown in:\n",
      "    https://scikit-learn.org/stable/modules/preprocessing.html\n",
      "Please also refer to the documentation for alternative solver options:\n",
      "    https://scikit-learn.org/stable/modules/linear_model.html#logistic-regression\n",
      "  n_iter_i = _check_optimize_result(\n",
      "c:\\users\\vn59575\\appdata\\local\\programs\\python\\python39\\lib\\site-packages\\sklearn\\linear_model\\_logistic.py:763: ConvergenceWarning: lbfgs failed to converge (status=1):\n",
      "STOP: TOTAL NO. of ITERATIONS REACHED LIMIT.\n",
      "\n",
      "Increase the number of iterations (max_iter) or scale the data as shown in:\n",
      "    https://scikit-learn.org/stable/modules/preprocessing.html\n",
      "Please also refer to the documentation for alternative solver options:\n",
      "    https://scikit-learn.org/stable/modules/linear_model.html#logistic-regression\n",
      "  n_iter_i = _check_optimize_result(\n",
      "c:\\users\\vn59575\\appdata\\local\\programs\\python\\python39\\lib\\site-packages\\sklearn\\linear_model\\_logistic.py:763: ConvergenceWarning: lbfgs failed to converge (status=1):\n",
      "STOP: TOTAL NO. of ITERATIONS REACHED LIMIT.\n",
      "\n",
      "Increase the number of iterations (max_iter) or scale the data as shown in:\n",
      "    https://scikit-learn.org/stable/modules/preprocessing.html\n",
      "Please also refer to the documentation for alternative solver options:\n",
      "    https://scikit-learn.org/stable/modules/linear_model.html#logistic-regression\n",
      "  n_iter_i = _check_optimize_result(\n",
      "c:\\users\\vn59575\\appdata\\local\\programs\\python\\python39\\lib\\site-packages\\sklearn\\linear_model\\_logistic.py:763: ConvergenceWarning: lbfgs failed to converge (status=1):\n",
      "STOP: TOTAL NO. of ITERATIONS REACHED LIMIT.\n",
      "\n",
      "Increase the number of iterations (max_iter) or scale the data as shown in:\n",
      "    https://scikit-learn.org/stable/modules/preprocessing.html\n",
      "Please also refer to the documentation for alternative solver options:\n",
      "    https://scikit-learn.org/stable/modules/linear_model.html#logistic-regression\n",
      "  n_iter_i = _check_optimize_result(\n",
      "c:\\users\\vn59575\\appdata\\local\\programs\\python\\python39\\lib\\site-packages\\sklearn\\linear_model\\_logistic.py:763: ConvergenceWarning: lbfgs failed to converge (status=1):\n",
      "STOP: TOTAL NO. of ITERATIONS REACHED LIMIT.\n",
      "\n",
      "Increase the number of iterations (max_iter) or scale the data as shown in:\n",
      "    https://scikit-learn.org/stable/modules/preprocessing.html\n",
      "Please also refer to the documentation for alternative solver options:\n",
      "    https://scikit-learn.org/stable/modules/linear_model.html#logistic-regression\n",
      "  n_iter_i = _check_optimize_result(\n",
      "c:\\users\\vn59575\\appdata\\local\\programs\\python\\python39\\lib\\site-packages\\sklearn\\linear_model\\_logistic.py:763: ConvergenceWarning: lbfgs failed to converge (status=1):\n",
      "STOP: TOTAL NO. of ITERATIONS REACHED LIMIT.\n",
      "\n",
      "Increase the number of iterations (max_iter) or scale the data as shown in:\n",
      "    https://scikit-learn.org/stable/modules/preprocessing.html\n",
      "Please also refer to the documentation for alternative solver options:\n",
      "    https://scikit-learn.org/stable/modules/linear_model.html#logistic-regression\n",
      "  n_iter_i = _check_optimize_result(\n",
      "c:\\users\\vn59575\\appdata\\local\\programs\\python\\python39\\lib\\site-packages\\sklearn\\linear_model\\_logistic.py:763: ConvergenceWarning: lbfgs failed to converge (status=1):\n",
      "STOP: TOTAL NO. of ITERATIONS REACHED LIMIT.\n",
      "\n",
      "Increase the number of iterations (max_iter) or scale the data as shown in:\n",
      "    https://scikit-learn.org/stable/modules/preprocessing.html\n",
      "Please also refer to the documentation for alternative solver options:\n",
      "    https://scikit-learn.org/stable/modules/linear_model.html#logistic-regression\n",
      "  n_iter_i = _check_optimize_result(\n",
      "c:\\users\\vn59575\\appdata\\local\\programs\\python\\python39\\lib\\site-packages\\sklearn\\linear_model\\_logistic.py:763: ConvergenceWarning: lbfgs failed to converge (status=1):\n",
      "STOP: TOTAL NO. of ITERATIONS REACHED LIMIT.\n",
      "\n",
      "Increase the number of iterations (max_iter) or scale the data as shown in:\n",
      "    https://scikit-learn.org/stable/modules/preprocessing.html\n",
      "Please also refer to the documentation for alternative solver options:\n",
      "    https://scikit-learn.org/stable/modules/linear_model.html#logistic-regression\n",
      "  n_iter_i = _check_optimize_result(\n",
      "c:\\users\\vn59575\\appdata\\local\\programs\\python\\python39\\lib\\site-packages\\sklearn\\linear_model\\_logistic.py:763: ConvergenceWarning: lbfgs failed to converge (status=1):\n",
      "STOP: TOTAL NO. of ITERATIONS REACHED LIMIT.\n",
      "\n",
      "Increase the number of iterations (max_iter) or scale the data as shown in:\n",
      "    https://scikit-learn.org/stable/modules/preprocessing.html\n",
      "Please also refer to the documentation for alternative solver options:\n",
      "    https://scikit-learn.org/stable/modules/linear_model.html#logistic-regression\n",
      "  n_iter_i = _check_optimize_result(\n"
     ]
    },
    {
     "data": {
      "text/plain": [
       "GridSearchCV(cv=5, estimator=LogisticRegression(),\n",
       "             param_grid={'C': array([1.00000000e-05, 8.48342898e-05, 7.19685673e-04, 6.10540230e-03,\n",
       "       5.17947468e-02, 4.39397056e-01, 3.72759372e+00, 3.16227766e+01,\n",
       "       2.68269580e+02, 2.27584593e+03, 1.93069773e+04, 1.63789371e+05,\n",
       "       1.38949549e+06, 1.17876863e+07, 1.00000000e+08])})"
      ]
     },
     "execution_count": 10,
     "metadata": {},
     "output_type": "execute_result"
    }
   ],
   "source": [
    "logreg_cv.fit(X,y)"
   ]
  },
  {
   "cell_type": "code",
   "execution_count": 11,
   "id": "e392c8a4",
   "metadata": {},
   "outputs": [],
   "source": [
    "best_params=logreg_cv.best_params_"
   ]
  },
  {
   "cell_type": "code",
   "execution_count": 12,
   "id": "2a55d5f4",
   "metadata": {},
   "outputs": [],
   "source": [
    "best_score=logreg_cv.best_score_"
   ]
  },
  {
   "cell_type": "code",
   "execution_count": 13,
   "id": "4381ad8c",
   "metadata": {},
   "outputs": [
    {
     "data": {
      "text/plain": [
       "{'C': 31.622776601683793}"
      ]
     },
     "execution_count": 13,
     "metadata": {},
     "output_type": "execute_result"
    }
   ],
   "source": [
    "best_params"
   ]
  },
  {
   "cell_type": "code",
   "execution_count": 15,
   "id": "b07f3db7",
   "metadata": {},
   "outputs": [
    {
     "data": {
      "text/plain": [
       "0.9800000000000001"
      ]
     },
     "execution_count": 15,
     "metadata": {},
     "output_type": "execute_result"
    }
   ],
   "source": [
    "best_score"
   ]
  },
  {
   "cell_type": "code",
   "execution_count": 5,
   "id": "2fe5ac95",
   "metadata": {},
   "outputs": [],
   "source": [
    "m=dict(name=\"vishnu\",age=24,email=\"v@gmail.com\")"
   ]
  },
  {
   "cell_type": "code",
   "execution_count": 9,
   "id": "58c91cb7",
   "metadata": {},
   "outputs": [
    {
     "name": "stdout",
     "output_type": "stream",
     "text": [
      "vishnu\n"
     ]
    }
   ],
   "source": [
    "if \"name\" in m:\n",
    "    print(m[\"name\"])\n",
    "else:\n",
    "    raise Exception(\"Unknown value\")"
   ]
  },
  {
   "cell_type": "code",
   "execution_count": 10,
   "id": "8a7ae095",
   "metadata": {},
   "outputs": [],
   "source": [
    "import numpy as np"
   ]
  },
  {
   "cell_type": "code",
   "execution_count": 19,
   "id": "5b35fc12",
   "metadata": {},
   "outputs": [],
   "source": [
    "n=np.array([[2,4],[6,8]])"
   ]
  },
  {
   "cell_type": "code",
   "execution_count": 24,
   "id": "56ed1bf2",
   "metadata": {},
   "outputs": [
    {
     "data": {
      "text/plain": [
       "4"
      ]
     },
     "execution_count": 24,
     "metadata": {},
     "output_type": "execute_result"
    }
   ],
   "source": [
    "l=[1,2,3,4]\n",
    "l[-1]"
   ]
  },
  {
   "cell_type": "code",
   "execution_count": 25,
   "id": "d9745b5f",
   "metadata": {},
   "outputs": [],
   "source": [
    "s=\"vishnu\""
   ]
  },
  {
   "cell_type": "code",
   "execution_count": 26,
   "id": "8fe22e54",
   "metadata": {},
   "outputs": [
    {
     "data": {
      "text/plain": [
       "'unhsiv'"
      ]
     },
     "execution_count": 26,
     "metadata": {},
     "output_type": "execute_result"
    }
   ],
   "source": [
    "s[::-1]"
   ]
  },
  {
   "cell_type": "code",
   "execution_count": 27,
   "id": "9df1b230",
   "metadata": {},
   "outputs": [],
   "source": [
    "from timeit import default_timer as timer"
   ]
  },
  {
   "cell_type": "code",
   "execution_count": 36,
   "id": "ac83d9bc",
   "metadata": {},
   "outputs": [],
   "source": [
    "mylist=['a']*10000000"
   ]
  },
  {
   "cell_type": "code",
   "execution_count": 37,
   "id": "4ce83b02",
   "metadata": {},
   "outputs": [
    {
     "name": "stdout",
     "output_type": "stream",
     "text": [
      "13.129180699994322\n"
     ]
    }
   ],
   "source": [
    "start=timer()\n",
    "mystr=''\n",
    "for i in mylist:\n",
    "    mystr+=i\n",
    "stop=timer()\n",
    "print(stop-start)"
   ]
  },
  {
   "cell_type": "code",
   "execution_count": 38,
   "id": "cf527a98",
   "metadata": {},
   "outputs": [
    {
     "name": "stdout",
     "output_type": "stream",
     "text": [
      "0.1666696000029333\n"
     ]
    }
   ],
   "source": [
    "start=timer()\n",
    "mystr=''.join(mylist)\n",
    "stop=timer()\n",
    "print(stop-start)"
   ]
  },
  {
   "cell_type": "code",
   "execution_count": 39,
   "id": "14ef54a1",
   "metadata": {},
   "outputs": [],
   "source": [
    "from collections import Counter\n",
    "s=\"aaaaaabbbbccc\"\n",
    "mycounter=Counter(s)"
   ]
  },
  {
   "cell_type": "code",
   "execution_count": 40,
   "id": "74c47a71",
   "metadata": {},
   "outputs": [
    {
     "data": {
      "text/plain": [
       "Counter({'a': 6, 'b': 4, 'c': 3})"
      ]
     },
     "execution_count": 40,
     "metadata": {},
     "output_type": "execute_result"
    }
   ],
   "source": [
    "mycounter"
   ]
  },
  {
   "cell_type": "code",
   "execution_count": 42,
   "id": "5cbf3d4a",
   "metadata": {},
   "outputs": [
    {
     "data": {
      "text/plain": [
       "'a'"
      ]
     },
     "execution_count": 42,
     "metadata": {},
     "output_type": "execute_result"
    }
   ],
   "source": [
    "mycounter.most_common(1)[0][0]"
   ]
  },
  {
   "cell_type": "code",
   "execution_count": 44,
   "id": "1bfa25a7",
   "metadata": {},
   "outputs": [
    {
     "name": "stdout",
     "output_type": "stream",
     "text": [
      "[(1, 2), (1, 3), (2, 1), (2, 3), (3, 1), (3, 2)]\n"
     ]
    }
   ],
   "source": [
    "from itertools import permutations\n",
    "x=[1,2,3]\n",
    "print(list(permutations(x,2))) "
   ]
  },
  {
   "cell_type": "code",
   "execution_count": 56,
   "id": "05230c67",
   "metadata": {},
   "outputs": [],
   "source": [
    "from itertools import groupby\n",
    "a=[1,2,3,4,5,6]\n",
    "a_group=groupby(a,key=lambda x:x>3)"
   ]
  },
  {
   "cell_type": "code",
   "execution_count": 57,
   "id": "2f394b75",
   "metadata": {},
   "outputs": [
    {
     "name": "stdout",
     "output_type": "stream",
     "text": [
      "False [1, 2, 3]\n",
      "True [4, 5, 6]\n"
     ]
    }
   ],
   "source": [
    "for key,value in a_group:\n",
    "    print(key,list(value))"
   ]
  },
  {
   "cell_type": "code",
   "execution_count": 58,
   "id": "65a10047",
   "metadata": {},
   "outputs": [],
   "source": [
    "l=[(15,-2),(8,-5),(4,-7),(6,-4)]\n",
    "ls=sorted(l,key=lambda x:x[0])"
   ]
  },
  {
   "cell_type": "code",
   "execution_count": 59,
   "id": "f47628c4",
   "metadata": {},
   "outputs": [
    {
     "data": {
      "text/plain": [
       "[(4, -7), (6, -4), (8, -5), (15, -2)]"
      ]
     },
     "execution_count": 59,
     "metadata": {},
     "output_type": "execute_result"
    }
   ],
   "source": [
    "ls"
   ]
  },
  {
   "cell_type": "code",
   "execution_count": 9,
   "id": "b12fada9",
   "metadata": {},
   "outputs": [],
   "source": [
    "class Conversion():\n",
    "    def __init__(self,capacity):\n",
    "        self.top=-1\n",
    "        self.array=[]\n",
    "        self.out=[]\n",
    "        self.capacity=capacity\n",
    "        self.prec={'+':1, '-':1, '*':2, '/':2, '^':3}\n",
    "    \n",
    "    def isEmpty(self):\n",
    "        return True if self.top==-1 else False\n",
    "    \n",
    "    def peek(self):\n",
    "        return self.array[-1]\n",
    "    \n",
    "    def pop(self):\n",
    "        if not self.isEmpty():\n",
    "            self.top-=1\n",
    "            return self.array.pop()\n",
    "        else:\n",
    "            return \"$\"\n",
    "    \n",
    "    def push(self,op):\n",
    "        self.top+=1\n",
    "        self.array.append(op)\n",
    "        \n",
    "    def isOperand(self,i):\n",
    "        return i.isalpha()\n",
    "        \n",
    "    def notGreater(self,i):\n",
    "        try:\n",
    "            a=self.prec[i]\n",
    "            b=self.prec[self.peek()]\n",
    "            return True if a<=b else False\n",
    "        except KeyError:\n",
    "            return False\n",
    "        \n",
    "    def infix_to_post(self,exp):\n",
    "        for i in exp:\n",
    "            if self.isOperand(i):\n",
    "                self.out.append(i)\n",
    "            elif i==\"(\":\n",
    "                self.push(i)\n",
    "            elif i==\")\":\n",
    "                while (not self.isEmpty() and self.peek()!='('):\n",
    "                    a=self.pop()\n",
    "                    self.out.append(a)\n",
    "                if (not self.isEmpty() and self.peek()!='('):\n",
    "                    return -1\n",
    "                else:\n",
    "                    self.pop()\n",
    "            else:\n",
    "                while(not self.isEmpty() and self.notGreater(i)):\n",
    "                    self.out.append(self.pop())\n",
    "                self.push(i)\n",
    "        while not self.isEmpty():\n",
    "            self.out.append(self.pop())\n",
    "        \n",
    "        print(\"\".join(self.out))"
   ]
  },
  {
   "cell_type": "code",
   "execution_count": 11,
   "id": "c8de59df",
   "metadata": {},
   "outputs": [
    {
     "name": "stdout",
     "output_type": "stream",
     "text": [
      "abc*+\n"
     ]
    }
   ],
   "source": [
    "exp = \"a+(b*c)\"\n",
    "con=Conversion(len(exp))\n",
    "con.infix_to_post(exp)"
   ]
  },
  {
   "cell_type": "code",
   "execution_count": 18,
   "id": "43c4f9f5",
   "metadata": {},
   "outputs": [],
   "source": [
    "def infix_to_post(exp):\n",
    "    \n",
    "    prec={'+':1, '-':1, '*':2, '/':2, '^':3}\n",
    "    op=[]\n",
    "    out=[]\n",
    "    \n",
    "    def notGreater(i):\n",
    "        a=prec[i]\n",
    "        b=prec[op[-1]]\n",
    "        return True if a<=b else False\n",
    "    \n",
    "    for i in exp:\n",
    "        if i.isalpha():\n",
    "            out.append(i)\n",
    "        elif i=='(':\n",
    "            op.append(i)\n",
    "        elif i==')':\n",
    "            while len(op)!=0 and op[-1]!='(':\n",
    "                out.append(op.pop())\n",
    "        else:\n",
    "            while len(op)!=0 and notGreater(i):\n",
    "                out.append(op.pop())\n",
    "            op.append(i)\n",
    "    while len(op)!=0:\n",
    "        out.append(op.pop())\n",
    "    print(\"\".join(out))\n",
    "    "
   ]
  },
  {
   "cell_type": "code",
   "execution_count": 19,
   "id": "f7091274",
   "metadata": {},
   "outputs": [
    {
     "ename": "UnboundLocalError",
     "evalue": "local variable 'notGreater' referenced before assignment",
     "output_type": "error",
     "traceback": [
      "\u001b[1;31m---------------------------------------------------------------------------\u001b[0m",
      "\u001b[1;31mUnboundLocalError\u001b[0m                         Traceback (most recent call last)",
      "\u001b[1;32m<ipython-input-19-8801e88cf984>\u001b[0m in \u001b[0;36m<module>\u001b[1;34m\u001b[0m\n\u001b[0;32m      1\u001b[0m \u001b[0mexp\u001b[0m\u001b[1;33m=\u001b[0m\u001b[1;34m\"a+(b*c)\"\u001b[0m\u001b[1;33m\u001b[0m\u001b[1;33m\u001b[0m\u001b[0m\n\u001b[1;32m----> 2\u001b[1;33m \u001b[0minfix_to_post\u001b[0m\u001b[1;33m(\u001b[0m\u001b[0mexp\u001b[0m\u001b[1;33m)\u001b[0m\u001b[1;33m\u001b[0m\u001b[1;33m\u001b[0m\u001b[0m\n\u001b[0m",
      "\u001b[1;32m<ipython-input-18-6b81275f8972>\u001b[0m in \u001b[0;36minfix_to_post\u001b[1;34m(exp)\u001b[0m\n\u001b[0;32m     14\u001b[0m                 \u001b[0mout\u001b[0m\u001b[1;33m.\u001b[0m\u001b[0mappend\u001b[0m\u001b[1;33m(\u001b[0m\u001b[0mop\u001b[0m\u001b[1;33m.\u001b[0m\u001b[0mpop\u001b[0m\u001b[1;33m(\u001b[0m\u001b[1;33m)\u001b[0m\u001b[1;33m)\u001b[0m\u001b[1;33m\u001b[0m\u001b[1;33m\u001b[0m\u001b[0m\n\u001b[0;32m     15\u001b[0m         \u001b[1;32melse\u001b[0m\u001b[1;33m:\u001b[0m\u001b[1;33m\u001b[0m\u001b[1;33m\u001b[0m\u001b[0m\n\u001b[1;32m---> 16\u001b[1;33m             \u001b[1;32mwhile\u001b[0m \u001b[0mlen\u001b[0m\u001b[1;33m(\u001b[0m\u001b[0mop\u001b[0m\u001b[1;33m)\u001b[0m\u001b[1;33m!=\u001b[0m\u001b[1;36m0\u001b[0m \u001b[1;32mand\u001b[0m \u001b[0mnotGreater\u001b[0m\u001b[1;33m(\u001b[0m\u001b[0mi\u001b[0m\u001b[1;33m)\u001b[0m\u001b[1;33m:\u001b[0m\u001b[1;33m\u001b[0m\u001b[1;33m\u001b[0m\u001b[0m\n\u001b[0m\u001b[0;32m     17\u001b[0m                 \u001b[0mout\u001b[0m\u001b[1;33m.\u001b[0m\u001b[0mappend\u001b[0m\u001b[1;33m(\u001b[0m\u001b[0mop\u001b[0m\u001b[1;33m.\u001b[0m\u001b[0mpop\u001b[0m\u001b[1;33m(\u001b[0m\u001b[1;33m)\u001b[0m\u001b[1;33m)\u001b[0m\u001b[1;33m\u001b[0m\u001b[1;33m\u001b[0m\u001b[0m\n\u001b[0;32m     18\u001b[0m             \u001b[0mop\u001b[0m\u001b[1;33m.\u001b[0m\u001b[0mappend\u001b[0m\u001b[1;33m(\u001b[0m\u001b[0mi\u001b[0m\u001b[1;33m)\u001b[0m\u001b[1;33m\u001b[0m\u001b[1;33m\u001b[0m\u001b[0m\n",
      "\u001b[1;31mUnboundLocalError\u001b[0m: local variable 'notGreater' referenced before assignment"
     ]
    }
   ],
   "source": [
    "exp=\"a+(b*c)\"\n",
    "infix_to_post(exp)"
   ]
  },
  {
   "cell_type": "code",
   "execution_count": null,
   "id": "9c828a64",
   "metadata": {},
   "outputs": [],
   "source": []
  }
 ],
 "metadata": {
  "kernelspec": {
   "display_name": "Python 3",
   "language": "python",
   "name": "python3"
  },
  "language_info": {
   "codemirror_mode": {
    "name": "ipython",
    "version": 3
   },
   "file_extension": ".py",
   "mimetype": "text/x-python",
   "name": "python",
   "nbconvert_exporter": "python",
   "pygments_lexer": "ipython3",
   "version": "3.9.5"
  }
 },
 "nbformat": 4,
 "nbformat_minor": 5
}
