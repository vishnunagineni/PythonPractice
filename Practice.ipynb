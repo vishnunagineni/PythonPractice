{
 "cells": [
  {
   "cell_type": "code",
   "execution_count": 2,
   "id": "3090282f",
   "metadata": {},
   "outputs": [],
   "source": [
    "square=lambda x:x*x"
   ]
  },
  {
   "cell_type": "code",
   "execution_count": 3,
   "id": "5516800c",
   "metadata": {},
   "outputs": [
    {
     "data": {
      "text/plain": [
       "625"
      ]
     },
     "execution_count": 3,
     "metadata": {},
     "output_type": "execute_result"
    }
   ],
   "source": [
    "square(25)"
   ]
  },
  {
   "cell_type": "code",
   "execution_count": 4,
   "id": "7be13d1f",
   "metadata": {},
   "outputs": [
    {
     "data": {
      "text/plain": [
       "390625"
      ]
     },
     "execution_count": 4,
     "metadata": {},
     "output_type": "execute_result"
    }
   ],
   "source": [
    "square(625)"
   ]
  },
  {
   "cell_type": "code",
   "execution_count": 5,
   "id": "e7a17419",
   "metadata": {},
   "outputs": [],
   "source": [
    "import pandas as pd"
   ]
  },
  {
   "cell_type": "code",
   "execution_count": 12,
   "id": "e8d642ca",
   "metadata": {},
   "outputs": [],
   "source": [
    "data=pd.read_excel(\"D:/Datasets/Public-Dataset-County-New.xlsx\")"
   ]
  },
  {
   "cell_type": "code",
   "execution_count": 13,
   "id": "5069a2e6",
   "metadata": {},
   "outputs": [
    {
     "data": {
      "text/html": [
       "<div>\n",
       "<style scoped>\n",
       "    .dataframe tbody tr th:only-of-type {\n",
       "        vertical-align: middle;\n",
       "    }\n",
       "\n",
       "    .dataframe tbody tr th {\n",
       "        vertical-align: top;\n",
       "    }\n",
       "\n",
       "    .dataframe thead th {\n",
       "        text-align: right;\n",
       "    }\n",
       "</style>\n",
       "<table border=\"1\" class=\"dataframe\">\n",
       "  <thead>\n",
       "    <tr style=\"text-align: right;\">\n",
       "      <th></th>\n",
       "      <th>DATE</th>\n",
       "      <th>COUNTY</th>\n",
       "      <th>TOTAL_CASES</th>\n",
       "      <th>NEW_CASES</th>\n",
       "      <th>TOTAL_CONFIRMED</th>\n",
       "      <th>NEW_CONFIRMED</th>\n",
       "      <th>TOTAL_PROBABLE</th>\n",
       "      <th>NEW_PROBABLE</th>\n",
       "      <th>POS_TESTS</th>\n",
       "      <th>NEW_POS_TESTS</th>\n",
       "      <th>...</th>\n",
       "      <th>NEW_TESTS</th>\n",
       "      <th>NEW_DEATHS</th>\n",
       "      <th>TOTAL_DEATHS</th>\n",
       "      <th>NEW_ACTIVE</th>\n",
       "      <th>TOTAL_ACTIVE</th>\n",
       "      <th>NEW_INACTIVE_RECOVERED</th>\n",
       "      <th>TOTAL_INACTIVE_RECOVERED</th>\n",
       "      <th>NEW_HOSPITALIZED</th>\n",
       "      <th>TOTAL_HOSPITALIZED</th>\n",
       "      <th>TOTAL_DEATHS_BY_DOD</th>\n",
       "    </tr>\n",
       "  </thead>\n",
       "  <tbody>\n",
       "    <tr>\n",
       "      <th>0</th>\n",
       "      <td>2021-09-29</td>\n",
       "      <td>Anderson</td>\n",
       "      <td>12273</td>\n",
       "      <td>39</td>\n",
       "      <td>8402</td>\n",
       "      <td>13</td>\n",
       "      <td>3871</td>\n",
       "      <td>26</td>\n",
       "      <td>9392</td>\n",
       "      <td>14</td>\n",
       "      <td>...</td>\n",
       "      <td>205</td>\n",
       "      <td>2.0</td>\n",
       "      <td>199.0</td>\n",
       "      <td>-29.0</td>\n",
       "      <td>519.0</td>\n",
       "      <td>66</td>\n",
       "      <td>11555</td>\n",
       "      <td>0</td>\n",
       "      <td>259</td>\n",
       "      <td>199</td>\n",
       "    </tr>\n",
       "    <tr>\n",
       "      <th>1</th>\n",
       "      <td>2021-09-29</td>\n",
       "      <td>Bedford</td>\n",
       "      <td>8737</td>\n",
       "      <td>34</td>\n",
       "      <td>6509</td>\n",
       "      <td>29</td>\n",
       "      <td>2228</td>\n",
       "      <td>5</td>\n",
       "      <td>7458</td>\n",
       "      <td>31</td>\n",
       "      <td>...</td>\n",
       "      <td>141</td>\n",
       "      <td>0.0</td>\n",
       "      <td>148.0</td>\n",
       "      <td>3.0</td>\n",
       "      <td>274.0</td>\n",
       "      <td>31</td>\n",
       "      <td>8315</td>\n",
       "      <td>0</td>\n",
       "      <td>226</td>\n",
       "      <td>148</td>\n",
       "    </tr>\n",
       "    <tr>\n",
       "      <th>2</th>\n",
       "      <td>2021-09-29</td>\n",
       "      <td>Benton</td>\n",
       "      <td>2620</td>\n",
       "      <td>11</td>\n",
       "      <td>1808</td>\n",
       "      <td>7</td>\n",
       "      <td>812</td>\n",
       "      <td>4</td>\n",
       "      <td>1984</td>\n",
       "      <td>10</td>\n",
       "      <td>...</td>\n",
       "      <td>75</td>\n",
       "      <td>0.0</td>\n",
       "      <td>44.0</td>\n",
       "      <td>-5.0</td>\n",
       "      <td>148.0</td>\n",
       "      <td>16</td>\n",
       "      <td>2428</td>\n",
       "      <td>0</td>\n",
       "      <td>77</td>\n",
       "      <td>44</td>\n",
       "    </tr>\n",
       "    <tr>\n",
       "      <th>3</th>\n",
       "      <td>2021-09-29</td>\n",
       "      <td>Bledsoe</td>\n",
       "      <td>3344</td>\n",
       "      <td>13</td>\n",
       "      <td>2663</td>\n",
       "      <td>10</td>\n",
       "      <td>681</td>\n",
       "      <td>3</td>\n",
       "      <td>2839</td>\n",
       "      <td>10</td>\n",
       "      <td>...</td>\n",
       "      <td>52</td>\n",
       "      <td>0.0</td>\n",
       "      <td>13.0</td>\n",
       "      <td>3.0</td>\n",
       "      <td>101.0</td>\n",
       "      <td>10</td>\n",
       "      <td>3230</td>\n",
       "      <td>0</td>\n",
       "      <td>56</td>\n",
       "      <td>13</td>\n",
       "    </tr>\n",
       "    <tr>\n",
       "      <th>4</th>\n",
       "      <td>2021-09-29</td>\n",
       "      <td>Blount</td>\n",
       "      <td>22755</td>\n",
       "      <td>98</td>\n",
       "      <td>18716</td>\n",
       "      <td>54</td>\n",
       "      <td>4039</td>\n",
       "      <td>44</td>\n",
       "      <td>20467</td>\n",
       "      <td>58</td>\n",
       "      <td>...</td>\n",
       "      <td>351</td>\n",
       "      <td>2.0</td>\n",
       "      <td>243.0</td>\n",
       "      <td>-21.0</td>\n",
       "      <td>991.0</td>\n",
       "      <td>117</td>\n",
       "      <td>21521</td>\n",
       "      <td>0</td>\n",
       "      <td>610</td>\n",
       "      <td>243</td>\n",
       "    </tr>\n",
       "  </tbody>\n",
       "</table>\n",
       "<p>5 rows × 23 columns</p>\n",
       "</div>"
      ],
      "text/plain": [
       "        DATE    COUNTY  TOTAL_CASES  NEW_CASES  TOTAL_CONFIRMED  \\\n",
       "0 2021-09-29  Anderson        12273         39             8402   \n",
       "1 2021-09-29   Bedford         8737         34             6509   \n",
       "2 2021-09-29    Benton         2620         11             1808   \n",
       "3 2021-09-29   Bledsoe         3344         13             2663   \n",
       "4 2021-09-29    Blount        22755         98            18716   \n",
       "\n",
       "   NEW_CONFIRMED  TOTAL_PROBABLE  NEW_PROBABLE  POS_TESTS  NEW_POS_TESTS  ...  \\\n",
       "0             13            3871            26       9392             14  ...   \n",
       "1             29            2228             5       7458             31  ...   \n",
       "2              7             812             4       1984             10  ...   \n",
       "3             10             681             3       2839             10  ...   \n",
       "4             54            4039            44      20467             58  ...   \n",
       "\n",
       "   NEW_TESTS  NEW_DEATHS  TOTAL_DEATHS  NEW_ACTIVE  TOTAL_ACTIVE  \\\n",
       "0        205         2.0         199.0       -29.0         519.0   \n",
       "1        141         0.0         148.0         3.0         274.0   \n",
       "2         75         0.0          44.0        -5.0         148.0   \n",
       "3         52         0.0          13.0         3.0         101.0   \n",
       "4        351         2.0         243.0       -21.0         991.0   \n",
       "\n",
       "   NEW_INACTIVE_RECOVERED  TOTAL_INACTIVE_RECOVERED  NEW_HOSPITALIZED  \\\n",
       "0                      66                     11555                 0   \n",
       "1                      31                      8315                 0   \n",
       "2                      16                      2428                 0   \n",
       "3                      10                      3230                 0   \n",
       "4                     117                     21521                 0   \n",
       "\n",
       "   TOTAL_HOSPITALIZED  TOTAL_DEATHS_BY_DOD  \n",
       "0                 259                  199  \n",
       "1                 226                  148  \n",
       "2                  77                   44  \n",
       "3                  56                   13  \n",
       "4                 610                  243  \n",
       "\n",
       "[5 rows x 23 columns]"
      ]
     },
     "execution_count": 13,
     "metadata": {},
     "output_type": "execute_result"
    }
   ],
   "source": [
    "data.head()"
   ]
  },
  {
   "cell_type": "code",
   "execution_count": 15,
   "id": "2b861d61",
   "metadata": {},
   "outputs": [],
   "source": [
    "na_sum=data.isna().sum()"
   ]
  },
  {
   "cell_type": "code",
   "execution_count": 17,
   "id": "693094d2",
   "metadata": {},
   "outputs": [
    {
     "data": {
      "text/plain": [
       "pandas.core.series.Series"
      ]
     },
     "execution_count": 17,
     "metadata": {},
     "output_type": "execute_result"
    }
   ],
   "source": [
    "type(na_sum)"
   ]
  },
  {
   "cell_type": "code",
   "execution_count": 1,
   "id": "d029e2ea",
   "metadata": {},
   "outputs": [],
   "source": [
    "import turtle"
   ]
  },
  {
   "cell_type": "code",
   "execution_count": 2,
   "id": "c3cc739a",
   "metadata": {},
   "outputs": [],
   "source": [
    "skk=turtle.Turtle()"
   ]
  },
  {
   "cell_type": "code",
   "execution_count": null,
   "id": "600e4510",
   "metadata": {},
   "outputs": [],
   "source": [
    "for i in range(4):\n",
    "    skk.forward(60)\n",
    "    skk.right(90)\n",
    "turtle.done()"
   ]
  },
  {
   "cell_type": "code",
   "execution_count": null,
   "id": "83413729",
   "metadata": {},
   "outputs": [],
   "source": []
  },
  {
   "cell_type": "code",
   "execution_count": 47,
   "id": "8a1725ed",
   "metadata": {},
   "outputs": [],
   "source": [
    "def subsets(x):\n",
    "    res=[[]]\n",
    "    for i in x:\n",
    "        res+=[sub+[i] for sub in res]\n",
    "    print(\"Subsets are:\")\n",
    "    def myfunc(e):\n",
    "        return len(e)\n",
    "    res.sort(key=myfunc)\n",
    "    for i in res:\n",
    "        print(i)"
   ]
  },
  {
   "cell_type": "code",
   "execution_count": 48,
   "id": "6cae35ed",
   "metadata": {},
   "outputs": [
    {
     "name": "stdout",
     "output_type": "stream",
     "text": [
      "Subsets are:\n",
      "[]\n",
      "[1]\n",
      "[2]\n",
      "[3]\n",
      "[4]\n",
      "[1, 2]\n",
      "[1, 3]\n",
      "[2, 3]\n",
      "[1, 4]\n",
      "[2, 4]\n",
      "[3, 4]\n",
      "[1, 2, 3]\n",
      "[1, 2, 4]\n",
      "[1, 3, 4]\n",
      "[2, 3, 4]\n",
      "[1, 2, 3, 4]\n"
     ]
    }
   ],
   "source": [
    "x=[1,2,3,4]\n",
    "subsets(x)"
   ]
  },
  {
   "cell_type": "code",
   "execution_count": null,
   "id": "ac349ea3",
   "metadata": {},
   "outputs": [],
   "source": []
  },
  {
   "cell_type": "code",
   "execution_count": 3,
   "id": "c2305830",
   "metadata": {},
   "outputs": [],
   "source": [
    "def binary_search(x,l,r,val):\n",
    "    m=int((r-1)/2)\n",
    "    if val==x[m]:\n",
    "        print(\"val is found at position{0}\".format(m))\n",
    "    elif val<=x[m]:\n",
    "        return binary_search(x,0,m-1,val)\n",
    "    else:\n",
    "        return binary_search(x,m+1,r,val)"
   ]
  },
  {
   "cell_type": "code",
   "execution_count": 2,
   "id": "89acdc04",
   "metadata": {},
   "outputs": [],
   "source": [
    "x=[1,2,3,6,8,9]"
   ]
  },
  {
   "cell_type": "code",
   "execution_count": null,
   "id": "85637811",
   "metadata": {},
   "outputs": [],
   "source": [
    "r=len(x)\n",
    "binary_search(x,0,r,2)"
   ]
  },
  {
   "cell_type": "code",
   "execution_count": 1,
   "id": "0cc2fe1d",
   "metadata": {},
   "outputs": [],
   "source": [
    "from sklearn.linear_model import LogisticRegression\n",
    "from sklearn.model_selection import GridSearchCV\n",
    "import numpy as np"
   ]
  },
  {
   "cell_type": "code",
   "execution_count": 2,
   "id": "2ae20bb8",
   "metadata": {},
   "outputs": [],
   "source": [
    "c_space=np.logspace(-5,8,15)"
   ]
  },
  {
   "cell_type": "code",
   "execution_count": 3,
   "id": "578f3dcf",
   "metadata": {},
   "outputs": [],
   "source": [
    "param_grid={'C':c_space}"
   ]
  },
  {
   "cell_type": "code",
   "execution_count": 5,
   "id": "2fe5ac95",
   "metadata": {},
   "outputs": [],
   "source": [
    "m=dict(name=\"vishnu\",age=24,email=\"v@gmail.com\")"
   ]
  },
  {
   "cell_type": "code",
   "execution_count": 9,
   "id": "58c91cb7",
   "metadata": {},
   "outputs": [
    {
     "name": "stdout",
     "output_type": "stream",
     "text": [
      "vishnu\n"
     ]
    }
   ],
   "source": [
    "if \"name\" in m:\n",
    "    print(m[\"name\"])\n",
    "else:\n",
    "    raise Exception(\"Unknown value\")"
   ]
  },
  {
   "cell_type": "code",
   "execution_count": 10,
   "id": "8a7ae095",
   "metadata": {},
   "outputs": [],
   "source": [
    "import numpy as np"
   ]
  },
  {
   "cell_type": "code",
   "execution_count": 19,
   "id": "5b35fc12",
   "metadata": {},
   "outputs": [],
   "source": [
    "n=np.array([[2,4],[6,8]])"
   ]
  },
  {
   "cell_type": "code",
   "execution_count": 24,
   "id": "56ed1bf2",
   "metadata": {},
   "outputs": [
    {
     "data": {
      "text/plain": [
       "4"
      ]
     },
     "execution_count": 24,
     "metadata": {},
     "output_type": "execute_result"
    }
   ],
   "source": [
    "l=[1,2,3,4]\n",
    "l[-1]"
   ]
  },
  {
   "cell_type": "code",
   "execution_count": 25,
   "id": "d9745b5f",
   "metadata": {},
   "outputs": [],
   "source": [
    "s=\"vishnu\""
   ]
  },
  {
   "cell_type": "code",
   "execution_count": 26,
   "id": "8fe22e54",
   "metadata": {},
   "outputs": [
    {
     "data": {
      "text/plain": [
       "'unhsiv'"
      ]
     },
     "execution_count": 26,
     "metadata": {},
     "output_type": "execute_result"
    }
   ],
   "source": [
    "s[::-1]"
   ]
  },
  {
   "cell_type": "code",
   "execution_count": 2,
   "id": "9df1b230",
   "metadata": {},
   "outputs": [],
   "source": [
    "from timeit import default_timer as timer"
   ]
  },
  {
   "cell_type": "code",
   "execution_count": 36,
   "id": "ac83d9bc",
   "metadata": {},
   "outputs": [],
   "source": [
    "mylist=['a']*10000000"
   ]
  },
  {
   "cell_type": "code",
   "execution_count": 37,
   "id": "4ce83b02",
   "metadata": {},
   "outputs": [
    {
     "name": "stdout",
     "output_type": "stream",
     "text": [
      "13.129180699994322\n"
     ]
    }
   ],
   "source": [
    "start=timer()\n",
    "mystr=''\n",
    "for i in mylist:\n",
    "    mystr+=i\n",
    "stop=timer()\n",
    "print(stop-start)"
   ]
  },
  {
   "cell_type": "code",
   "execution_count": 38,
   "id": "cf527a98",
   "metadata": {},
   "outputs": [
    {
     "name": "stdout",
     "output_type": "stream",
     "text": [
      "0.1666696000029333\n"
     ]
    }
   ],
   "source": [
    "start=timer()\n",
    "mystr=''.join(mylist)\n",
    "stop=timer()\n",
    "print(stop-start)"
   ]
  },
  {
   "cell_type": "code",
   "execution_count": 39,
   "id": "14ef54a1",
   "metadata": {},
   "outputs": [],
   "source": [
    "from collections import Counter\n",
    "s=\"aaaaaabbbbccc\"\n",
    "mycounter=Counter(s)"
   ]
  },
  {
   "cell_type": "code",
   "execution_count": 40,
   "id": "74c47a71",
   "metadata": {},
   "outputs": [
    {
     "data": {
      "text/plain": [
       "Counter({'a': 6, 'b': 4, 'c': 3})"
      ]
     },
     "execution_count": 40,
     "metadata": {},
     "output_type": "execute_result"
    }
   ],
   "source": [
    "mycounter"
   ]
  },
  {
   "cell_type": "code",
   "execution_count": 42,
   "id": "5cbf3d4a",
   "metadata": {},
   "outputs": [
    {
     "data": {
      "text/plain": [
       "'a'"
      ]
     },
     "execution_count": 42,
     "metadata": {},
     "output_type": "execute_result"
    }
   ],
   "source": [
    "mycounter.most_common(1)[0][0]"
   ]
  },
  {
   "cell_type": "code",
   "execution_count": 44,
   "id": "1bfa25a7",
   "metadata": {},
   "outputs": [
    {
     "name": "stdout",
     "output_type": "stream",
     "text": [
      "[(1, 2), (1, 3), (2, 1), (2, 3), (3, 1), (3, 2)]\n"
     ]
    }
   ],
   "source": [
    "from itertools import permutations\n",
    "x=[1,2,3]\n",
    "print(list(permutations(x,2))) "
   ]
  },
  {
   "cell_type": "code",
   "execution_count": 56,
   "id": "05230c67",
   "metadata": {},
   "outputs": [],
   "source": [
    "from itertools import groupby\n",
    "a=[1,2,3,4,5,6]\n",
    "a_group=groupby(a,key=lambda x:x>3)"
   ]
  },
  {
   "cell_type": "code",
   "execution_count": 57,
   "id": "2f394b75",
   "metadata": {},
   "outputs": [
    {
     "name": "stdout",
     "output_type": "stream",
     "text": [
      "False [1, 2, 3]\n",
      "True [4, 5, 6]\n"
     ]
    }
   ],
   "source": [
    "for key,value in a_group:\n",
    "    print(key,list(value))"
   ]
  },
  {
   "cell_type": "code",
   "execution_count": 58,
   "id": "65a10047",
   "metadata": {},
   "outputs": [],
   "source": [
    "l=[(15,-2),(8,-5),(4,-7),(6,-4)]\n",
    "ls=sorted(l,key=lambda x:x[0])"
   ]
  },
  {
   "cell_type": "code",
   "execution_count": 59,
   "id": "f47628c4",
   "metadata": {},
   "outputs": [
    {
     "data": {
      "text/plain": [
       "[(4, -7), (6, -4), (8, -5), (15, -2)]"
      ]
     },
     "execution_count": 59,
     "metadata": {},
     "output_type": "execute_result"
    }
   ],
   "source": [
    "ls"
   ]
  },
  {
   "cell_type": "code",
   "execution_count": 9,
   "id": "f765a779",
   "metadata": {},
   "outputs": [],
   "source": [
    "class Conversion():\n",
    "    def __init__(self,capacity):\n",
    "        self.top=-1\n",
    "        self.array=[]\n",
    "        self.out=[]\n",
    "        self.capacity=capacity\n",
    "        self.prec={'+':1, '-':1, '*':2, '/':2, '^':3}\n",
    "    \n",
    "    def isEmpty(self):\n",
    "        return True if self.top==-1 else False\n",
    "    \n",
    "    def peek(self):\n",
    "        return self.array[-1]\n",
    "    \n",
    "    def pop(self):\n",
    "        if not self.isEmpty():\n",
    "            self.top-=1\n",
    "            return self.array.pop()\n",
    "        else:\n",
    "            return \"$\"\n",
    "    \n",
    "    def push(self,op):\n",
    "        self.top+=1\n",
    "        self.array.append(op)\n",
    "        \n",
    "    def isOperand(self,i):\n",
    "        return i.isalpha()\n",
    "        \n",
    "    def notGreater(self,i):\n",
    "        try:\n",
    "            a=self.prec[i]\n",
    "            b=self.prec[self.peek()]\n",
    "            return True if a<=b else False\n",
    "        except KeyError:\n",
    "            return False\n",
    "        \n",
    "    def infix_to_post(self,exp):\n",
    "        for i in exp:\n",
    "            if self.isOperand(i):\n",
    "                self.out.append(i)\n",
    "            elif i==\"(\":\n",
    "                self.push(i)\n",
    "            elif i==\")\":\n",
    "                while (not self.isEmpty() and self.peek()!='('):\n",
    "                    a=self.pop()\n",
    "                    self.out.append(a)\n",
    "                if (not self.isEmpty() and self.peek()!='('):\n",
    "                    return -1\n",
    "                else:\n",
    "                    self.pop()\n",
    "            else:\n",
    "                while(not self.isEmpty() and self.notGreater(i)):\n",
    "                    self.out.append(self.pop())\n",
    "                self.push(i)\n",
    "        while not self.isEmpty():\n",
    "            self.out.append(self.pop())\n",
    "        \n",
    "        print(\"\".join(self.out))"
   ]
  },
  {
   "cell_type": "code",
   "execution_count": 11,
   "id": "e77eb9c0",
   "metadata": {},
   "outputs": [
    {
     "name": "stdout",
     "output_type": "stream",
     "text": [
      "abc*+\n"
     ]
    }
   ],
   "source": [
    "exp = \"a+(b*c)\"\n",
    "con=Conversion(len(exp))\n",
    "con.infix_to_post(exp)"
   ]
  },
  {
   "cell_type": "code",
   "execution_count": 21,
   "id": "c6f5eb27",
   "metadata": {},
   "outputs": [],
   "source": [
    "def infix_to_post(exp):\n",
    "    \n",
    "    prec={'+':1, '-':1, '*':2, '/':2, '^':3}\n",
    "    op=[]\n",
    "    out=[]\n",
    "    \n",
    "    def notGreater(i):\n",
    "        a=prec[i]\n",
    "        b=prec[op[-1]]\n",
    "        return True if a<=b else False\n",
    "    \n",
    "    for i in exp:\n",
    "        if i.isalpha():\n",
    "            out.append(i)\n",
    "        elif i=='(':\n",
    "            op.append(i)\n",
    "        elif i==')':\n",
    "            while len(op)!=0 and op[-1]!='(':\n",
    "                out.append(op.pop())\n",
    "        else:\n",
    "            while len(op)!=0 and notGreater(i):\n",
    "                out.append(op.pop())\n",
    "            op.append(i)\n",
    "    while len(op)!=0:\n",
    "        out.append(op.pop())\n",
    "    print(\"\".join(out))\n",
    "    "
   ]
  },
  {
   "cell_type": "code",
   "execution_count": 22,
   "id": "89fc8844",
   "metadata": {},
   "outputs": [
    {
     "ename": "KeyError",
     "evalue": "'('",
     "output_type": "error",
     "traceback": [
      "\u001b[1;31m---------------------------------------------------------------------------\u001b[0m",
      "\u001b[1;31mKeyError\u001b[0m                                  Traceback (most recent call last)",
      "\u001b[1;32m<ipython-input-22-8801e88cf984>\u001b[0m in \u001b[0;36m<module>\u001b[1;34m\u001b[0m\n\u001b[0;32m      1\u001b[0m \u001b[0mexp\u001b[0m\u001b[1;33m=\u001b[0m\u001b[1;34m\"a+(b*c)\"\u001b[0m\u001b[1;33m\u001b[0m\u001b[1;33m\u001b[0m\u001b[0m\n\u001b[1;32m----> 2\u001b[1;33m \u001b[0minfix_to_post\u001b[0m\u001b[1;33m(\u001b[0m\u001b[0mexp\u001b[0m\u001b[1;33m)\u001b[0m\u001b[1;33m\u001b[0m\u001b[1;33m\u001b[0m\u001b[0m\n\u001b[0m",
      "\u001b[1;32m<ipython-input-21-31e625f5ae94>\u001b[0m in \u001b[0;36minfix_to_post\u001b[1;34m(exp)\u001b[0m\n\u001b[0;32m     19\u001b[0m                 \u001b[0mout\u001b[0m\u001b[1;33m.\u001b[0m\u001b[0mappend\u001b[0m\u001b[1;33m(\u001b[0m\u001b[0mop\u001b[0m\u001b[1;33m.\u001b[0m\u001b[0mpop\u001b[0m\u001b[1;33m(\u001b[0m\u001b[1;33m)\u001b[0m\u001b[1;33m)\u001b[0m\u001b[1;33m\u001b[0m\u001b[1;33m\u001b[0m\u001b[0m\n\u001b[0;32m     20\u001b[0m         \u001b[1;32melse\u001b[0m\u001b[1;33m:\u001b[0m\u001b[1;33m\u001b[0m\u001b[1;33m\u001b[0m\u001b[0m\n\u001b[1;32m---> 21\u001b[1;33m             \u001b[1;32mwhile\u001b[0m \u001b[0mlen\u001b[0m\u001b[1;33m(\u001b[0m\u001b[0mop\u001b[0m\u001b[1;33m)\u001b[0m\u001b[1;33m!=\u001b[0m\u001b[1;36m0\u001b[0m \u001b[1;32mand\u001b[0m \u001b[0mnotGreater\u001b[0m\u001b[1;33m(\u001b[0m\u001b[0mi\u001b[0m\u001b[1;33m)\u001b[0m\u001b[1;33m:\u001b[0m\u001b[1;33m\u001b[0m\u001b[1;33m\u001b[0m\u001b[0m\n\u001b[0m\u001b[0;32m     22\u001b[0m                 \u001b[0mout\u001b[0m\u001b[1;33m.\u001b[0m\u001b[0mappend\u001b[0m\u001b[1;33m(\u001b[0m\u001b[0mop\u001b[0m\u001b[1;33m.\u001b[0m\u001b[0mpop\u001b[0m\u001b[1;33m(\u001b[0m\u001b[1;33m)\u001b[0m\u001b[1;33m)\u001b[0m\u001b[1;33m\u001b[0m\u001b[1;33m\u001b[0m\u001b[0m\n\u001b[0;32m     23\u001b[0m             \u001b[0mop\u001b[0m\u001b[1;33m.\u001b[0m\u001b[0mappend\u001b[0m\u001b[1;33m(\u001b[0m\u001b[0mi\u001b[0m\u001b[1;33m)\u001b[0m\u001b[1;33m\u001b[0m\u001b[1;33m\u001b[0m\u001b[0m\n",
      "\u001b[1;32m<ipython-input-21-31e625f5ae94>\u001b[0m in \u001b[0;36mnotGreater\u001b[1;34m(i)\u001b[0m\n\u001b[0;32m      7\u001b[0m     \u001b[1;32mdef\u001b[0m \u001b[0mnotGreater\u001b[0m\u001b[1;33m(\u001b[0m\u001b[0mi\u001b[0m\u001b[1;33m)\u001b[0m\u001b[1;33m:\u001b[0m\u001b[1;33m\u001b[0m\u001b[1;33m\u001b[0m\u001b[0m\n\u001b[0;32m      8\u001b[0m         \u001b[0ma\u001b[0m\u001b[1;33m=\u001b[0m\u001b[0mprec\u001b[0m\u001b[1;33m[\u001b[0m\u001b[0mi\u001b[0m\u001b[1;33m]\u001b[0m\u001b[1;33m\u001b[0m\u001b[1;33m\u001b[0m\u001b[0m\n\u001b[1;32m----> 9\u001b[1;33m         \u001b[0mb\u001b[0m\u001b[1;33m=\u001b[0m\u001b[0mprec\u001b[0m\u001b[1;33m[\u001b[0m\u001b[0mop\u001b[0m\u001b[1;33m[\u001b[0m\u001b[1;33m-\u001b[0m\u001b[1;36m1\u001b[0m\u001b[1;33m]\u001b[0m\u001b[1;33m]\u001b[0m\u001b[1;33m\u001b[0m\u001b[1;33m\u001b[0m\u001b[0m\n\u001b[0m\u001b[0;32m     10\u001b[0m         \u001b[1;32mreturn\u001b[0m \u001b[1;32mTrue\u001b[0m \u001b[1;32mif\u001b[0m \u001b[0ma\u001b[0m\u001b[1;33m<=\u001b[0m\u001b[0mb\u001b[0m \u001b[1;32melse\u001b[0m \u001b[1;32mFalse\u001b[0m\u001b[1;33m\u001b[0m\u001b[1;33m\u001b[0m\u001b[0m\n\u001b[0;32m     11\u001b[0m \u001b[1;33m\u001b[0m\u001b[0m\n",
      "\u001b[1;31mKeyError\u001b[0m: '('"
     ]
    }
   ],
   "source": [
    "exp=\"a+(b*c)\"\n",
    "infix_to_post(exp)"
   ]
  },
  {
   "cell_type": "code",
   "execution_count": 1,
   "id": "7c7c1b19",
   "metadata": {},
   "outputs": [],
   "source": [
    "def sum_of_digits(n):\n",
    "    #out=0\n",
    "    #while n>0 or out>9:\n",
    "    #    if n==0:\n",
    "    #        n=out\n",
    "    #        out=0\n",
    "    #    r=n%10\n",
    "    #    out+=r\n",
    "    #    n=n//10\n",
    "    #return out\n",
    "    if n==0:\n",
    "        return 0\n",
    "    if n%9==0:\n",
    "        return 9\n",
    "    else:\n",
    "        return n%9"
   ]
  },
  {
   "cell_type": "code",
   "execution_count": 5,
   "id": "1c3e3633",
   "metadata": {},
   "outputs": [
    {
     "name": "stdout",
     "output_type": "stream",
     "text": [
      "1\n"
     ]
    }
   ],
   "source": [
    "print(sum_of_digits(55))"
   ]
  },
  {
   "cell_type": "code",
   "execution_count": 65,
   "id": "705a9e4c",
   "metadata": {},
   "outputs": [],
   "source": [
    "class Node:\n",
    "    def __init__(self,data):\n",
    "        self.data=data\n",
    "        self.left=None\n",
    "        self.right=None\n",
    "def display(root):\n",
    "    if root:\n",
    "        display(root.left)\n",
    "        print(root.data)\n",
    "        display(root.right)\n",
    "def insert(root,data):\n",
    "    if root is None:\n",
    "        return Node(data)\n",
    "    else:\n",
    "        if root.data==data:\n",
    "            return root\n",
    "        elif data<root.data:\n",
    "            root.left=insert(root.left,data)\n",
    "        else:\n",
    "            root.right=insert(root.right,data)\n",
    "    return root"
   ]
  },
  {
   "cell_type": "code",
   "execution_count": 66,
   "id": "96b3ecb2",
   "metadata": {},
   "outputs": [
    {
     "name": "stdout",
     "output_type": "stream",
     "text": [
      "<__main__.Node object at 0x0000024132F4F0D0>\n"
     ]
    }
   ],
   "source": [
    "l=[40,20,50,60,30,10,45]\n",
    "root=Node(35)\n",
    "print(root)"
   ]
  },
  {
   "cell_type": "code",
   "execution_count": 67,
   "id": "50045a76",
   "metadata": {},
   "outputs": [],
   "source": [
    "for i in l:\n",
    "    root=insert(root,i)"
   ]
  },
  {
   "cell_type": "code",
   "execution_count": 68,
   "id": "a759be56",
   "metadata": {},
   "outputs": [
    {
     "name": "stdout",
     "output_type": "stream",
     "text": [
      "10\n",
      "20\n",
      "30\n",
      "35\n",
      "40\n",
      "45\n",
      "50\n",
      "60\n"
     ]
    }
   ],
   "source": [
    "display(root)"
   ]
  },
  {
   "cell_type": "code",
   "execution_count": 63,
   "id": "d15c952d",
   "metadata": {},
   "outputs": [],
   "source": [
    "l=[-1]*10"
   ]
  },
  {
   "cell_type": "code",
   "execution_count": 64,
   "id": "5e766fda",
   "metadata": {},
   "outputs": [
    {
     "data": {
      "text/plain": [
       "[-1, -1, -1, -1, -1, -1, -1, -1, -1, -1]"
      ]
     },
     "execution_count": 64,
     "metadata": {},
     "output_type": "execute_result"
    }
   ],
   "source": [
    "l"
   ]
  },
  {
   "cell_type": "code",
   "execution_count": 105,
   "id": "515aaee1",
   "metadata": {},
   "outputs": [],
   "source": [
    "from collections import defaultdict\n",
    "class Graph:\n",
    "    def __init__(self):\n",
    "        self.graph=defaultdict(list)\n",
    "    \n",
    "    def add_edge(self,u,v):\n",
    "        self.graph[u].append(v)\n",
    "    \n",
    "#     def dfsUtil(self,v,visited):\n",
    "#         visited.add(v)\n",
    "#         print(v,end=\" \")\n",
    "#         for i in self.graph[v]:\n",
    "#             if i not in visited:\n",
    "#                 self.dfsUtil(i,visited)\n",
    "#     def DFS(self,v):\n",
    "#         visited=set()\n",
    "#         self.dfsUtil(v,visited)\n",
    "    def BFS(self,v):\n",
    "        visited=[False]*(max(self.graph)+1)\n",
    "        print(visited)\n",
    "        visited[v]=True\n",
    "        queue=[]\n",
    "        queue.append(v)\n",
    "        while queue:\n",
    "            s=queue.pop(0)\n",
    "            print(s,end=\" \")\n",
    "            for i in self.graph[s]:\n",
    "                if not visited[i]:\n",
    "                    queue.append(i)\n",
    "                    visited[i]=True"
   ]
  },
  {
   "cell_type": "code",
   "execution_count": 106,
   "id": "29687375",
   "metadata": {},
   "outputs": [],
   "source": [
    "g=Graph()"
   ]
  },
  {
   "cell_type": "code",
   "execution_count": 107,
   "id": "c0af65f7",
   "metadata": {},
   "outputs": [],
   "source": [
    "g.add_edge(0,1)\n",
    "g.add_edge(0,2)\n",
    "g.add_edge(1,2)\n",
    "g.add_edge(2,0)\n",
    "g.add_edge(2,3)\n",
    "g.add_edge(3,3)"
   ]
  },
  {
   "cell_type": "code",
   "execution_count": 108,
   "id": "50c9cd75",
   "metadata": {},
   "outputs": [
    {
     "name": "stdout",
     "output_type": "stream",
     "text": [
      "[False, False, False, False]\n",
      "2 0 3 1 "
     ]
    }
   ],
   "source": [
    "g.BFS(2)"
   ]
  },
  {
   "cell_type": "code",
   "execution_count": 118,
   "id": "d2cf4031",
   "metadata": {},
   "outputs": [],
   "source": [
    "def pattern_rec(n):\n",
    "    if n<=1:\n",
    "        return\n",
    "    else:\n",
    "        for i in range(n):\n",
    "            print(i+1,end=\" \")\n",
    "        print(\"\\n\")\n",
    "        pattern_rec(n-1)\n",
    "        for i in range(n):\n",
    "            print(i+1,end=\" \")\n",
    "        print(\"\\n\")\n"
   ]
  },
  {
   "cell_type": "code",
   "execution_count": 119,
   "id": "7ddae471",
   "metadata": {},
   "outputs": [
    {
     "name": "stdout",
     "output_type": "stream",
     "text": [
      "1 2 3 4 5 \n",
      "\n",
      "1 2 3 4 \n",
      "\n",
      "1 2 3 \n",
      "\n",
      "1 2 \n",
      "\n",
      "1 2 \n",
      "\n",
      "1 2 3 \n",
      "\n",
      "1 2 3 4 \n",
      "\n",
      "1 2 3 4 5 \n",
      "\n"
     ]
    }
   ],
   "source": [
    "pattern_rec(5)"
   ]
  },
  {
   "cell_type": "code",
   "execution_count": 125,
   "id": "7f217474",
   "metadata": {},
   "outputs": [],
   "source": [
    "#tabulation method bottom up approach in dp\n",
    "def fact_tab(n):\n",
    "    dp=[-1]*(n+1)\n",
    "    dp[0]=1\n",
    "    for i in range(1,n+1):\n",
    "        dp[i]=dp[i-1]*i\n",
    "    return dp[n]\n",
    "def fact(n):\n",
    "    if n==0 or n==1:\n",
    "        return 1\n",
    "    else:\n",
    "        return "
   ]
  },
  {
   "cell_type": "code",
   "execution_count": 127,
   "id": "70c332c0",
   "metadata": {},
   "outputs": [
    {
     "name": "stdout",
     "output_type": "stream",
     "text": [
      "3628800\n"
     ]
    }
   ],
   "source": [
    "print(fact(10))"
   ]
  },
  {
   "cell_type": "code",
   "execution_count": 60,
   "id": "f53b3592",
   "metadata": {},
   "outputs": [
    {
     "name": "stdout",
     "output_type": "stream",
     "text": [
      "102334155\n",
      "0.0002958000000035099\n"
     ]
    }
   ],
   "source": [
    "\n",
    "start=timer()\n",
    "def fib(n,dp):\n",
    "    if n==0:\n",
    "        return 0\n",
    "    if n==1:\n",
    "        return 1\n",
    "    if dp[n] is None:\n",
    "        dp[n]=fib(n-1,dp)+fib(n-2,dp)\n",
    "    return dp[n]\n",
    "dp=[None]*100\n",
    "print(fib(40,dp))\n",
    "stop=timer()\n",
    "print(stop-start)"
   ]
  },
  {
   "cell_type": "code",
   "execution_count": 61,
   "id": "803668c9",
   "metadata": {},
   "outputs": [
    {
     "name": "stdout",
     "output_type": "stream",
     "text": [
      "102334155\n",
      "0.0003435999999510386\n"
     ]
    }
   ],
   "source": [
    "start=timer()\n",
    "def fib(n):\n",
    "    dp=[0]*(n+1)\n",
    "    if n==0:\n",
    "        return 0\n",
    "    dp[1]=1\n",
    "    for i in range(2,n+1):\n",
    "        dp[i]=dp[i-1]+dp[i-2]\n",
    "    return dp[n]\n",
    "print(fib(40))\n",
    "stop=timer()\n",
    "print(stop-start)"
   ]
  },
  {
   "cell_type": "code",
   "execution_count": 3,
   "id": "03605726",
   "metadata": {},
   "outputs": [
    {
     "name": "stdout",
     "output_type": "stream",
     "text": [
      "0\n"
     ]
    }
   ],
   "source": [
    "def binary(x,l,r,a):\n",
    "    if r>=l:\n",
    "        mid=l+(r-1)//2\n",
    "        if x[mid]==a:\n",
    "            return mid\n",
    "        elif a<x[mid]:\n",
    "            return binary(x,l,mid-1,a)\n",
    "        else:\n",
    "            return binary(x,mid+1,r,a)\n",
    "    else:\n",
    "        return -1\n",
    "\n",
    "x=[2,3,4,5,6,7]\n",
    "print(binary(x,0,5,2))"
   ]
  },
  {
   "cell_type": "code",
   "execution_count": 7,
   "id": "b05c4a42",
   "metadata": {},
   "outputs": [],
   "source": [
    "def binary(x,a):\n",
    "    m=len(x)//2\n",
    "    if m>0:\n",
    "        if x[m]==a:\n",
    "            return m\n",
    "        elif a<x[m]:\n",
    "            return binary(x[:m],a)\n",
    "        elif a>x[m]:\n",
    "            return m+binary(x[m:],a)\n",
    "    else:\n",
    "        return -1"
   ]
  },
  {
   "cell_type": "code",
   "execution_count": 8,
   "id": "580f40a6",
   "metadata": {},
   "outputs": [
    {
     "name": "stdout",
     "output_type": "stream",
     "text": [
      "7\n"
     ]
    }
   ],
   "source": [
    "x=[2,3,4,5,6,7,8,9]\n",
    "print(binary(x,9))"
   ]
  },
  {
   "cell_type": "code",
   "execution_count": null,
   "id": "8d7f4eff",
   "metadata": {},
   "outputs": [],
   "source": []
  },
  {
   "cell_type": "code",
   "execution_count": 16,
   "id": "8a2e36e2",
   "metadata": {},
   "outputs": [
    {
     "name": "stdout",
     "output_type": "stream",
     "text": [
      "0\n"
     ]
    }
   ],
   "source": [
    "print(1//2)"
   ]
  },
  {
   "cell_type": "code",
   "execution_count": 8,
   "id": "7b68209e",
   "metadata": {},
   "outputs": [
    {
     "data": {
      "text/plain": [
       "[2, 3]"
      ]
     },
     "execution_count": 8,
     "metadata": {},
     "output_type": "execute_result"
    }
   ],
   "source": [
    "x[:2]"
   ]
  },
  {
   "cell_type": "code",
   "execution_count": 9,
   "id": "9fb58b14",
   "metadata": {},
   "outputs": [
    {
     "data": {
      "text/plain": [
       "[4, 5, 6, 7, 8, 9]"
      ]
     },
     "execution_count": 9,
     "metadata": {},
     "output_type": "execute_result"
    }
   ],
   "source": [
    "x[2:]"
   ]
  },
  {
   "cell_type": "code",
   "execution_count": 16,
   "id": "ba1671a4",
   "metadata": {},
   "outputs": [],
   "source": [
    "def heapify(arr,n,i):\n",
    "    largest=i\n",
    "    l=2*i+1\n",
    "    r=2*i+2\n",
    "    if l<n and arr[i]<arr[l]:\n",
    "        largest=l\n",
    "    if r<n and arr[largest]<arr[r]:\n",
    "        largest=r\n",
    "    if largest!=i:\n",
    "        arr[i],arr[largest]=arr[largest],arr[i]\n",
    "        heapify(arr,n,largest)\n",
    "\n",
    "def insert(arr,d):\n",
    "    s=len(arr)\n",
    "    if s==0:\n",
    "        arr.append(d)\n",
    "    else:\n",
    "        arr.append(d)\n",
    "        for i in range((s//2)-1,-1,-1):\n",
    "            heapify(arr,s,i)\n",
    "\n",
    "def delete(arr,d):\n",
    "    s=len(arr)\n",
    "    for i in range(0,s):\n",
    "        if d==arr[i]:\n",
    "            break\n",
    "    arr[i],arr[s-1]=arr[s-1],arr[i]\n",
    "    arr.remove(d)\n",
    "    for i in range((len(arr)//2)-1,-1,-1):\n",
    "        heapify(arr,len(arr),i)\n"
   ]
  },
  {
   "cell_type": "code",
   "execution_count": 28,
   "id": "a51dd00c",
   "metadata": {},
   "outputs": [
    {
     "name": "stdout",
     "output_type": "stream",
     "text": [
      "[3, 4]\n",
      "[4, 3, 9]\n",
      "[9, 3, 4, 5]\n",
      "[9, 5, 4, 3, 2]\n",
      "[9, 5, 4, 3, 2, 10]\n",
      "[10, 5, 9, 3, 2, 4, 11]\n"
     ]
    }
   ],
   "source": [
    "arr=[]\n",
    "insert(arr,3)\n",
    "insert(arr,4)\n",
    "print(arr)\n",
    "insert(arr,9)\n",
    "print(arr)\n",
    "insert(arr,5)\n",
    "print(arr)\n",
    "insert(arr,2)\n",
    "print(arr)\n",
    "insert(arr,10)\n",
    "print(arr)\n",
    "insert(arr,11)\n",
    "print(arr)"
   ]
  },
  {
   "cell_type": "code",
   "execution_count": 18,
   "id": "2e2a7168",
   "metadata": {},
   "outputs": [
    {
     "name": "stdout",
     "output_type": "stream",
     "text": [
      "[9, 5, 4, 3, 2, 1]\n"
     ]
    }
   ],
   "source": [
    "print(str(arr))"
   ]
  },
  {
   "cell_type": "code",
   "execution_count": 19,
   "id": "3540db70",
   "metadata": {},
   "outputs": [],
   "source": [
    "delete(arr,9)"
   ]
  },
  {
   "cell_type": "code",
   "execution_count": 14,
   "id": "d1b137b4",
   "metadata": {},
   "outputs": [],
   "source": [
    "insert(arr,9)"
   ]
  },
  {
   "cell_type": "code",
   "execution_count": 20,
   "id": "706cf57a",
   "metadata": {},
   "outputs": [
    {
     "data": {
      "text/plain": [
       "[5, 3, 4, 1, 2]"
      ]
     },
     "execution_count": 20,
     "metadata": {},
     "output_type": "execute_result"
    }
   ],
   "source": [
    "arr"
   ]
  },
  {
   "cell_type": "code",
   "execution_count": 21,
   "id": "1c39e39c",
   "metadata": {},
   "outputs": [],
   "source": [
    "delete(arr,3)"
   ]
  },
  {
   "cell_type": "code",
   "execution_count": 22,
   "id": "55aabbd9",
   "metadata": {},
   "outputs": [
    {
     "data": {
      "text/plain": [
       "[5, 2, 4, 1]"
      ]
     },
     "execution_count": 22,
     "metadata": {},
     "output_type": "execute_result"
    }
   ],
   "source": [
    "arr"
   ]
  },
  {
   "cell_type": "code",
   "execution_count": 23,
   "id": "6384a603",
   "metadata": {},
   "outputs": [
    {
     "name": "stdout",
     "output_type": "stream",
     "text": [
      "5\n",
      "4\n",
      "3\n",
      "2\n",
      "1\n",
      "0\n"
     ]
    }
   ],
   "source": [
    "for i in range(5,-1,-1):\n",
    "    print(i)"
   ]
  },
  {
   "cell_type": "code",
   "execution_count": 41,
   "id": "5590fdad",
   "metadata": {},
   "outputs": [],
   "source": [
    "def test_position(arr,d,m):\n",
    "    mid_num=arr[m]\n",
    "    if mid_num==d:\n",
    "        if m-1>=0 and arr[m-1]==d:\n",
    "            return 'left'\n",
    "        else:\n",
    "            return 'found'\n",
    "    elif mid_num<d:\n",
    "        return 'right'\n",
    "    else:\n",
    "        return 'left'"
   ]
  },
  {
   "cell_type": "code",
   "execution_count": 85,
   "id": "05c9016a",
   "metadata": {},
   "outputs": [],
   "source": [
    "def binary(arr,d):\n",
    "    l,r=0,len(arr)-1\n",
    "    while l<=r:\n",
    "        m=(l+r)//2\n",
    "        #res=test_position(arr,d,m)\n",
    "        if arr[m]==d:\n",
    "            if m-1>=0 and arr[m-1]==d:\n",
    "                r=m-1\n",
    "            else:\n",
    "                return m\n",
    "        elif d<arr[m]:\n",
    "            r=m-1\n",
    "        else:\n",
    "            l=m+1\n",
    "    return -1"
   ]
  },
  {
   "cell_type": "code",
   "execution_count": 88,
   "id": "b47b00da",
   "metadata": {},
   "outputs": [],
   "source": [
    "arr=[6,6,7,7,7,7]"
   ]
  },
  {
   "cell_type": "code",
   "execution_count": 90,
   "id": "7b94b5cc",
   "metadata": {},
   "outputs": [
    {
     "name": "stdout",
     "output_type": "stream",
     "text": [
      "2\n"
     ]
    }
   ],
   "source": [
    "print(binary(arr,7))"
   ]
  },
  {
   "cell_type": "code",
   "execution_count": null,
   "id": "8ab9cfd7",
   "metadata": {},
   "outputs": [],
   "source": []
  },
  {
   "cell_type": "code",
   "execution_count": 70,
   "id": "df34a8a9",
   "metadata": {},
   "outputs": [],
   "source": [
    "def rotations(arr):\n",
    "    r=0\n",
    "    for i in arr:\n",
    "        if i<=arr[-1]:\n",
    "            break\n",
    "        else:\n",
    "            r+=1\n",
    "    return r"
   ]
  },
  {
   "cell_type": "code",
   "execution_count": 72,
   "id": "bab24c45",
   "metadata": {},
   "outputs": [
    {
     "name": "stdout",
     "output_type": "stream",
     "text": [
      "1\n"
     ]
    }
   ],
   "source": [
    "arr=[3,1,2]\n",
    "print(rotations(arr))"
   ]
  },
  {
   "cell_type": "code",
   "execution_count": 2,
   "id": "9b6d124c",
   "metadata": {},
   "outputs": [],
   "source": [
    "# Python program for implementation of MergeSort\n",
    "\n",
    "# Merges two subarrays of arr[].\n",
    "# First subarray is arr[l..m]\n",
    "# Second subarray is arr[m+1..r]\n",
    "\n",
    "\n",
    "def merge(arr, l, m, r):\n",
    "\tn1 = m - l + 1\n",
    "\tn2 = r - m\n",
    "\n",
    "\t# create temp arrays\n",
    "\tL = [0] * (n1)\n",
    "\tR = [0] * (n2)\n",
    "\n",
    "\t# Copy data to temp arrays L[] and R[]\n",
    "\tfor i in range(0, n1):\n",
    "\t\tL[i] = arr[l + i]\n",
    "\n",
    "\tfor j in range(0, n2):\n",
    "\t\tR[j] = arr[m + 1 + j]\n",
    "\n",
    "\t# Merge the temp arrays back into arr[l..r]\n",
    "\ti = 0\t # Initial index of first subarray\n",
    "\tj = 0\t # Initial index of second subarray\n",
    "\tk = l\t # Initial index of merged subarray\n",
    "\n",
    "\twhile i < n1 and j < n2:\n",
    "\t\tif L[i] <= R[j]:\n",
    "\t\t\tarr[k] = L[i]\n",
    "\t\t\ti += 1\n",
    "\t\telse:\n",
    "\t\t\tarr[k] = R[j]\n",
    "\t\t\tj += 1\n",
    "\t\tk += 1\n",
    "\n",
    "\twhile i < n1:\n",
    "\t\tarr[k] = L[i]\n",
    "\t\ti += 1\n",
    "\t\tk += 1\n",
    "\n",
    "\twhile j < n2:\n",
    "\t\tarr[k] = R[j]\n",
    "\t\tj += 1\n",
    "\t\tk += 1\n",
    "\n",
    "\n",
    "\n",
    "def mergeSort(arr, l, r):\n",
    "    if l < r:\n",
    "        m = l+(r-l)//2\n",
    "        mergeSort(arr, l, m)\n",
    "        mergeSort(arr, m+1, r)\n",
    "        merge(arr, l, m, r)\n",
    "\n"
   ]
  },
  {
   "cell_type": "code",
   "execution_count": 3,
   "id": "40e02068",
   "metadata": {},
   "outputs": [],
   "source": [
    "arr=[4,6,2,3,8,9,5]"
   ]
  },
  {
   "cell_type": "code",
   "execution_count": 4,
   "id": "76cadfc9",
   "metadata": {},
   "outputs": [],
   "source": [
    "mergesort(arr,0,len(arr)-1)"
   ]
  },
  {
   "cell_type": "code",
   "execution_count": 5,
   "id": "a5951cdc",
   "metadata": {},
   "outputs": [
    {
     "data": {
      "text/plain": [
       "[2, 3, 4, 5, 6, 8, 9]"
      ]
     },
     "execution_count": 5,
     "metadata": {},
     "output_type": "execute_result"
    }
   ],
   "source": [
    "arr"
   ]
  },
  {
   "cell_type": "code",
   "execution_count": 6,
   "id": "d0225666",
   "metadata": {},
   "outputs": [],
   "source": [
    "def mergesort(arr):\n",
    "    if len(arr)>1:\n",
    "        m=len(arr)//2\n",
    "        L=arr[:m]\n",
    "        R=arr[m:]\n",
    "        mergesort(L)\n",
    "        mergesort(R)\n",
    "        i,j,k=0,0,0\n",
    "        while i<len(L) and j<len(R):\n",
    "            if L[i]<=R[j]:\n",
    "                arr[k]=L[i]\n",
    "                i+=1\n",
    "            else:\n",
    "                arr[k]=R[j]\n",
    "                j+=1\n",
    "            k+=1\n",
    "        while i<len(L):\n",
    "            arr[k]=L[i]\n",
    "            i+=1\n",
    "            k+=1\n",
    "            \n",
    "        while j<len(R):\n",
    "            arr[k]=R[j]\n",
    "            j+=1\n",
    "            k+=1"
   ]
  },
  {
   "cell_type": "code",
   "execution_count": 11,
   "id": "cfd4071a",
   "metadata": {},
   "outputs": [],
   "source": [
    "arr=[1,2,1,2,3,1,2]\n",
    "mergesort(arr)"
   ]
  },
  {
   "cell_type": "code",
   "execution_count": 12,
   "id": "d624ba83",
   "metadata": {},
   "outputs": [
    {
     "data": {
      "text/plain": [
       "[1, 1, 1, 2, 2, 2, 3]"
      ]
     },
     "execution_count": 12,
     "metadata": {},
     "output_type": "execute_result"
    }
   ],
   "source": [
    "arr"
   ]
  },
  {
   "cell_type": "code",
   "execution_count": 29,
   "id": "8f0c8bcb",
   "metadata": {},
   "outputs": [],
   "source": [
    "def selectionsort(arr):\n",
    "    n=len(arr)\n",
    "    for i in range(0,n):\n",
    "        min=i\n",
    "        for j in range(i+1,n):\n",
    "            if arr[j]>arr[min]:\n",
    "                min=j\n",
    "        arr[i],arr[min]=arr[min],arr[i]"
   ]
  },
  {
   "cell_type": "code",
   "execution_count": 30,
   "id": "79aa4e34",
   "metadata": {},
   "outputs": [],
   "source": [
    "arr=[4,6,2,3,8,9,5]\n",
    "selectionsort(arr)"
   ]
  },
  {
   "cell_type": "code",
   "execution_count": 31,
   "id": "c7763a19",
   "metadata": {},
   "outputs": [
    {
     "data": {
      "text/plain": [
       "[9, 8, 6, 5, 4, 3, 2]"
      ]
     },
     "execution_count": 31,
     "metadata": {},
     "output_type": "execute_result"
    }
   ],
   "source": [
    "arr"
   ]
  },
  {
   "cell_type": "code",
   "execution_count": 32,
   "id": "c0f7d6be",
   "metadata": {},
   "outputs": [
    {
     "data": {
      "text/plain": [
       "[3, 2, 2, 2, 1, 1, 1]"
      ]
     },
     "execution_count": 32,
     "metadata": {},
     "output_type": "execute_result"
    }
   ],
   "source": [
    "arr=[1,2,1,2,3,1,2]\n",
    "selectionsort(arr)\n",
    "arr"
   ]
  },
  {
   "cell_type": "code",
   "execution_count": 19,
   "id": "e0f7d2c8",
   "metadata": {},
   "outputs": [],
   "source": [
    "def bubblesort(arr):\n",
    "    for i in range(len(arr)):\n",
    "        for j in range(0,len(arr)-i-1):\n",
    "            if arr[j]<arr[j+1]:\n",
    "                arr[j],arr[j+1]=arr[j+1],arr[j]"
   ]
  },
  {
   "cell_type": "code",
   "execution_count": 20,
   "id": "b346114c",
   "metadata": {},
   "outputs": [
    {
     "data": {
      "text/plain": [
       "[3, 2, 2, 2, 1, 1, 1]"
      ]
     },
     "execution_count": 20,
     "metadata": {},
     "output_type": "execute_result"
    }
   ],
   "source": [
    "arr=[1,2,1,2,3,1,2]\n",
    "bubblesort(arr)\n",
    "arr"
   ]
  },
  {
   "cell_type": "code",
   "execution_count": 27,
   "id": "8850178d",
   "metadata": {},
   "outputs": [],
   "source": [
    "def insertionsort(arr):\n",
    "    for step in range(1,len(arr)):\n",
    "        key=arr[step]\n",
    "        j=step-1\n",
    "        print(step,end=\"->\")\n",
    "        while j>=0 and key<arr[j]:\n",
    "            arr[j+1]=arr[j]\n",
    "            print(arr)\n",
    "            j=j-1\n",
    "        arr[j+1]=key\n",
    "        print(arr)"
   ]
  },
  {
   "cell_type": "code",
   "execution_count": 28,
   "id": "79d82ec5",
   "metadata": {},
   "outputs": [
    {
     "name": "stdout",
     "output_type": "stream",
     "text": [
      "1->[1, 2, 1, 2, 3, 1, 2]\n",
      "2->[1, 2, 2, 2, 3, 1, 2]\n",
      "[1, 1, 2, 2, 3, 1, 2]\n",
      "3->[1, 1, 2, 2, 3, 1, 2]\n",
      "4->[1, 1, 2, 2, 3, 1, 2]\n",
      "5->[1, 1, 2, 2, 3, 3, 2]\n",
      "[1, 1, 2, 2, 2, 3, 2]\n",
      "[1, 1, 2, 2, 2, 3, 2]\n",
      "[1, 1, 1, 2, 2, 3, 2]\n",
      "6->[1, 1, 1, 2, 2, 3, 3]\n",
      "[1, 1, 1, 2, 2, 2, 3]\n"
     ]
    },
    {
     "data": {
      "text/plain": [
       "[1, 1, 1, 2, 2, 2, 3]"
      ]
     },
     "execution_count": 28,
     "metadata": {},
     "output_type": "execute_result"
    }
   ],
   "source": [
    "arr=[1,2,1,2,3,1,2]\n",
    "insertionsort(arr)\n",
    "arr"
   ]
  },
  {
   "cell_type": "code",
   "execution_count": 9,
   "id": "5cc8940e",
   "metadata": {},
   "outputs": [],
   "source": [
    "def partition(arr,l,r):\n",
    "    pivot=arr[r]\n",
    "    j=l-1\n",
    "    for i in range(l,r):\n",
    "        if arr[i]<=pivot:\n",
    "            j=j+1\n",
    "            arr[j],arr[i]=arr[i],arr[j]\n",
    "    arr[j+1],arr[r]=arr[r],arr[j+1]\n",
    "    print(arr)\n",
    "    print(j)\n",
    "    return j+1\n",
    "def quicksort(arr,l,r):\n",
    "    if l<r:\n",
    "        pi=partition(arr,l,r)\n",
    "        quicksort(arr,l,pi-1)\n",
    "        quicksort(arr,pi+1,r)"
   ]
  },
  {
   "cell_type": "code",
   "execution_count": 10,
   "id": "fa77f156",
   "metadata": {},
   "outputs": [
    {
     "name": "stdout",
     "output_type": "stream",
     "text": [
      "[6, 8, 9, 5, 4, 2, 3]\n",
      "2\n",
      "[9, 8, 6, 5, 4, 2, 3]\n",
      "-1\n",
      "[9, 8, 6, 5, 4, 2, 3]\n",
      "1\n",
      "[9, 8, 6, 5, 4, 3, 2]\n",
      "4\n"
     ]
    },
    {
     "data": {
      "text/plain": [
       "[9, 8, 6, 5, 4, 3, 2]"
      ]
     },
     "execution_count": 10,
     "metadata": {},
     "output_type": "execute_result"
    }
   ],
   "source": [
    "arr=[4,6,2,3,8,9,5]\n",
    "quicksort(arr,0,len(arr)-1)\n",
    "arr"
   ]
  },
  {
   "cell_type": "code",
   "execution_count": 12,
   "id": "f7bb2c77",
   "metadata": {},
   "outputs": [
    {
     "name": "stdout",
     "output_type": "stream",
     "text": [
      "23\n",
      "23 is a prime number\n"
     ]
    }
   ],
   "source": [
    "def prime(n):\n",
    "    for i in range(2,n):\n",
    "        if n%i==0:\n",
    "            return 0\n",
    "    return 1\n",
    "n=int(input())\n",
    "if prime(n):\n",
    "    print(\"{} is a prime number\".format(n))\n",
    "else:\n",
    "    print(\"{} is not a prime number\".format(n))"
   ]
  },
  {
   "cell_type": "code",
   "execution_count": 60,
   "id": "f5485fbb",
   "metadata": {},
   "outputs": [],
   "source": [
    "from collections import deque,Counter,defaultdict"
   ]
  },
  {
   "cell_type": "code",
   "execution_count": 33,
   "id": "41a1c1b9",
   "metadata": {},
   "outputs": [],
   "source": [
    "l=[2,4,5,6,7]"
   ]
  },
  {
   "cell_type": "code",
   "execution_count": 34,
   "id": "02c7b777",
   "metadata": {},
   "outputs": [],
   "source": [
    "dq=deque(l)"
   ]
  },
  {
   "cell_type": "code",
   "execution_count": 35,
   "id": "5dff504b",
   "metadata": {},
   "outputs": [],
   "source": [
    "dq.appendleft(1)"
   ]
  },
  {
   "cell_type": "code",
   "execution_count": 36,
   "id": "7aba931f",
   "metadata": {},
   "outputs": [
    {
     "data": {
      "text/plain": [
       "deque([1, 2, 4, 5, 6, 7])"
      ]
     },
     "execution_count": 36,
     "metadata": {},
     "output_type": "execute_result"
    }
   ],
   "source": [
    "dq"
   ]
  },
  {
   "cell_type": "code",
   "execution_count": 38,
   "id": "adde22e0",
   "metadata": {},
   "outputs": [],
   "source": [
    "dq.append(1)"
   ]
  },
  {
   "cell_type": "code",
   "execution_count": 67,
   "id": "c215e3e5",
   "metadata": {},
   "outputs": [],
   "source": [
    "def mostfrequent(l):\n",
    "    fl=Counter(l)\n",
    "    return fl.most_common(1)"
   ]
  },
  {
   "cell_type": "code",
   "execution_count": 68,
   "id": "a33aa244",
   "metadata": {},
   "outputs": [],
   "source": [
    "l=[2,1,2,2,1,3]"
   ]
  },
  {
   "cell_type": "code",
   "execution_count": 69,
   "id": "42bfb821",
   "metadata": {},
   "outputs": [
    {
     "name": "stdout",
     "output_type": "stream",
     "text": [
      "[(2, 3)]\n"
     ]
    }
   ],
   "source": [
    "print(mostfrequent(l))"
   ]
  },
  {
   "cell_type": "code",
   "execution_count": 49,
   "id": "bfc4c0d4",
   "metadata": {},
   "outputs": [],
   "source": [
    "l.sort(key=l.count)"
   ]
  },
  {
   "cell_type": "code",
   "execution_count": 70,
   "id": "317ca4cd",
   "metadata": {},
   "outputs": [],
   "source": [
    "from statistics import mode"
   ]
  },
  {
   "cell_type": "code",
   "execution_count": 71,
   "id": "a882986a",
   "metadata": {},
   "outputs": [
    {
     "name": "stdout",
     "output_type": "stream",
     "text": [
      "2\n"
     ]
    }
   ],
   "source": [
    "print(mode(l))"
   ]
  },
  {
   "cell_type": "code",
   "execution_count": 50,
   "id": "b68c2c1b",
   "metadata": {},
   "outputs": [
    {
     "data": {
      "text/plain": [
       "[2, 1, 2, 2, 1, 3]"
      ]
     },
     "execution_count": 50,
     "metadata": {},
     "output_type": "execute_result"
    }
   ],
   "source": [
    "l"
   ]
  },
  {
   "cell_type": "code",
   "execution_count": 44,
   "id": "bf475157",
   "metadata": {},
   "outputs": [
    {
     "data": {
      "text/plain": [
       "{1, 2, 3}"
      ]
     },
     "execution_count": 44,
     "metadata": {},
     "output_type": "execute_result"
    }
   ],
   "source": [
    "l"
   ]
  },
  {
   "cell_type": "code",
   "execution_count": 55,
   "id": "11b7cbdc",
   "metadata": {},
   "outputs": [],
   "source": [
    "x=[(2,4),(3,2),(1,4),(4,5)]"
   ]
  },
  {
   "cell_type": "code",
   "execution_count": 58,
   "id": "a2784816",
   "metadata": {},
   "outputs": [],
   "source": [
    "x.sort(key=lambda x:x[1])"
   ]
  },
  {
   "cell_type": "code",
   "execution_count": 59,
   "id": "4240760d",
   "metadata": {},
   "outputs": [
    {
     "data": {
      "text/plain": [
       "[(3, 2), (1, 4), (2, 4), (4, 5)]"
      ]
     },
     "execution_count": 59,
     "metadata": {},
     "output_type": "execute_result"
    }
   ],
   "source": [
    "x"
   ]
  },
  {
   "cell_type": "code",
   "execution_count": 81,
   "id": "63c39a04",
   "metadata": {},
   "outputs": [],
   "source": [
    "arr=[1,0,0,0,1,0,1,1,1,1,1]"
   ]
  },
  {
   "cell_type": "code",
   "execution_count": 82,
   "id": "9022107c",
   "metadata": {},
   "outputs": [],
   "source": [
    "def seg(arr):\n",
    "    l=0\n",
    "    r=len(arr)-1\n",
    "    while l<=r:\n",
    "        if arr[l]==0:\n",
    "            l+=1\n",
    "        else:\n",
    "            if arr[r]==1:\n",
    "                r-=1\n",
    "            else:\n",
    "                arr[l],arr[r]=arr[r],arr[l]\n",
    "                l+=1\n",
    "                r-=1"
   ]
  },
  {
   "cell_type": "code",
   "execution_count": 83,
   "id": "cf465883",
   "metadata": {},
   "outputs": [],
   "source": [
    "seg(arr)"
   ]
  },
  {
   "cell_type": "code",
   "execution_count": 84,
   "id": "9df9a346",
   "metadata": {},
   "outputs": [
    {
     "data": {
      "text/plain": [
       "[0, 0, 0, 0, 1, 1, 1, 1, 1, 1, 1]"
      ]
     },
     "execution_count": 84,
     "metadata": {},
     "output_type": "execute_result"
    }
   ],
   "source": [
    "arr"
   ]
  },
  {
   "cell_type": "code",
   "execution_count": 93,
   "id": "59a09729",
   "metadata": {},
   "outputs": [
    {
     "name": "stdout",
     "output_type": "stream",
     "text": [
      "True\n"
     ]
    }
   ],
   "source": [
    "def issubsetsum(arr,n,s):\n",
    "    if s==0:\n",
    "        return True\n",
    "    if n==0:\n",
    "        return False\n",
    "    \n",
    "    if (arr[n-1]>s):\n",
    "        return issubsetsum(arr,n-1,s)\n",
    "    return issubsetsum(arr,n-1,s) or issubsetsum(arr,n-1,s-arr[n-1])\n",
    "\n",
    "arr=[3,34,4,12,5,5,2]\n",
    "s=10\n",
    "print(issubsetsum(arr,len(arr),s))\n",
    "        "
   ]
  },
  {
   "cell_type": "code",
   "execution_count": 95,
   "id": "f7c0e893",
   "metadata": {},
   "outputs": [
    {
     "name": "stdout",
     "output_type": "stream",
     "text": [
      "1\n"
     ]
    }
   ],
   "source": [
    "dp=[[-1 for i in range(1000)] for j in range(1000)]\n",
    "def issubsetsum(arr,n,s):\n",
    "    if s==0:\n",
    "        return 1\n",
    "    if n<=0:\n",
    "        return 0\n",
    "    if dp[n-1][s]!=-1:\n",
    "        return dp[n-1][s]\n",
    "    \n",
    "    if arr[n-1]>s:\n",
    "        dp[n-1][s]=issubsetsum(arr,n-1,s)\n",
    "        return dp[n-1][s]\n",
    "    else:\n",
    "        dp[n-1][s]=issubsetsum(arr,n-1,s) or issubsetsum(arr,n-1,s-arr[n-1])\n",
    "        return dp[n-1][s]\n",
    "arr=[3,34,4,12,5,5,2]\n",
    "s=10\n",
    "print(issubsetsum(arr,len(arr),s))"
   ]
  },
  {
   "cell_type": "code",
   "execution_count": 96,
   "id": "146ba035",
   "metadata": {},
   "outputs": [
    {
     "name": "stdout",
     "output_type": "stream",
     "text": [
      "16 11 6 1 -4 1 6 11 16 "
     ]
    }
   ],
   "source": [
    "def pattern(n):\n",
    "    if n==0 or n<0:\n",
    "        print(n,end=\" \")\n",
    "        return\n",
    "    print(n,end=\" \")\n",
    "    pattern(n-5)\n",
    "    print(n,end=\" \")\n",
    "pattern(16)"
   ]
  },
  {
   "cell_type": "code",
   "execution_count": null,
   "id": "afc38b8d",
   "metadata": {},
   "outputs": [],
   "source": [
    "def reachable(arr,s,k):\n",
    "    if k==0:\n",
    "        return False\n",
    "    if arr[k]==0:\n",
    "        return reachable(arr,s,k-1)\n",
    "    if arr[k]==1:\n",
    "        return reachable(arr,s+k,k)\n",
    "\n",
    "arr=[1,0,1,0,0,0,1,]\n",
    "print(reachable(arr,0,3))"
   ]
  },
  {
   "cell_type": "code",
   "execution_count": null,
   "id": "c3716ba6",
   "metadata": {},
   "outputs": [],
   "source": [
    "class Role:\n",
    "    def __init__(self):\n",
    "        self.d={}\n",
    "        self.i=0\n",
    "    def createrootrole(self,rolename,reportsto):\n",
    "        level=L\n",
    "        if not self.d:\n",
    "            r={}\n",
    "            r[\"reportsto\"]=None\n",
    "            self.d[self.rolename]=r\n",
    "    def display(self):\n",
    "        if not self.d:\n",
    "            print(\"Hierarchy is Empty!!!\")\n",
    "        else:\n",
    "            for i in self.d.keys():\n",
    "                print(self.d[i])\n",
    "    def addsubrole(self,rolename,reportsto):\n",
    "        r={}\n",
    "        r[\"reportingto\"]=self.reportsto\n",
    "        self.d[self.rolename]=r\n"
   ]
  }
 ],
 "metadata": {
  "kernelspec": {
   "display_name": "Python 3",
   "language": "python",
   "name": "python3"
  },
  "language_info": {
   "codemirror_mode": {
    "name": "ipython",
    "version": 3
   },
   "file_extension": ".py",
   "mimetype": "text/x-python",
   "name": "python",
   "nbconvert_exporter": "python",
   "pygments_lexer": "ipython3",
   "version": "3.9.5"
  }
 },
 "nbformat": 4,
 "nbformat_minor": 5
}
